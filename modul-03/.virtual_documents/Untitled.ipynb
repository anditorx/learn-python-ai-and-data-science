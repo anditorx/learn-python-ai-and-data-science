





import numpy as np








arr = np.array([41, 42, 43, 44])


x = [True, False, True, False]


arr = arr[x]


print(arr)





arr = np.array([41, 42, 43, 44])


filter_arr = arr > 42


filter_arr


arr = arr[filter_arr]


arr





arr = np.array([1,2,3,4,5,6,7])


filter_arr = arr & 2 == 0


arr = arr[filter_arr]


arr








arr = np.array([1,2,3,4,5,6,7])


filter_arr = (arr % 2 == 0) & (arr > 2)


arr = arr[filter_arr]


arr








arr = np.array([['1', 'one'],
               ['2', 'two'],
               ['3', 'three'],
               ['4', 'four'],
               ['5', 'five']])


arr.shape


filter_arr = np.array(["two", "four"])


arr = arr[np.in1d(arr[:,1], filter_arr)]


arr




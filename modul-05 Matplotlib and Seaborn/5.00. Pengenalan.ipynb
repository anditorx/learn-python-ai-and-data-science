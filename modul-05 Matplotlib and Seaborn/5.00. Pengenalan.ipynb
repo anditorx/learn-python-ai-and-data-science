{
 "cells": [
  {
   "cell_type": "markdown",
   "id": "d1d5f058-dadd-4b68-83ca-3e3ec6d51765",
   "metadata": {},
   "source": [
    "# Pengenalan Modul 5: Matplotlib & Seaborn"
   ]
  },
  {
   "cell_type": "code",
   "execution_count": 3,
   "id": "bdb15216-7b13-4951-88c5-dab8eaaebeea",
   "metadata": {},
   "outputs": [],
   "source": [
    "import matplotlib\n",
    "import matplotlib.pyplot as plt"
   ]
  },
  {
   "cell_type": "code",
   "execution_count": 4,
   "id": "b4559870-f19f-4764-8f0c-108331b3750a",
   "metadata": {},
   "outputs": [],
   "source": [
    "import seaborn as sns"
   ]
  },
  {
   "cell_type": "code",
   "execution_count": null,
   "id": "4d4b9739-b259-4e02-b7a7-883fc0b49b16",
   "metadata": {},
   "outputs": [],
   "source": []
  },
  {
   "cell_type": "markdown",
   "id": "bca25cd4-bbb7-4610-9de9-3db13888afcf",
   "metadata": {},
   "source": [
    "### Mengecek versi Numpy"
   ]
  },
  {
   "cell_type": "code",
   "execution_count": 5,
   "id": "693c8b6c-54df-42f6-ab9e-6270919ff11f",
   "metadata": {},
   "outputs": [
    {
     "name": "stdout",
     "output_type": "stream",
     "text": [
      "3.8.4\n"
     ]
    }
   ],
   "source": [
    "print(matplotlib.__version__)"
   ]
  },
  {
   "cell_type": "code",
   "execution_count": 6,
   "id": "15baa1d5-9f6b-49e3-ba81-d345ac00de15",
   "metadata": {},
   "outputs": [
    {
     "name": "stdout",
     "output_type": "stream",
     "text": [
      "0.13.2\n"
     ]
    }
   ],
   "source": [
    "print(sns.__version__)"
   ]
  },
  {
   "cell_type": "code",
   "execution_count": null,
   "id": "a1cc0c52-c7da-49cf-9f52-b3769a16619c",
   "metadata": {},
   "outputs": [],
   "source": []
  },
  {
   "cell_type": "code",
   "execution_count": 7,
   "id": "1a212153-abaa-4bb5-9074-0a725ad8c097",
   "metadata": {},
   "outputs": [],
   "source": [
    "# !pip --version\n",
    "# !pip show matplotlib\n",
    "# !pip install matplotlib==3.5.3"
   ]
  },
  {
   "cell_type": "code",
   "execution_count": null,
   "id": "caf0b60d-59cc-4f67-b5f5-062da1af0eb2",
   "metadata": {},
   "outputs": [],
   "source": []
  }
 ],
 "metadata": {
  "kernelspec": {
   "display_name": "Python 3 (ipykernel)",
   "language": "python",
   "name": "python3"
  },
  "language_info": {
   "codemirror_mode": {
    "name": "ipython",
    "version": 3
   },
   "file_extension": ".py",
   "mimetype": "text/x-python",
   "name": "python",
   "nbconvert_exporter": "python",
   "pygments_lexer": "ipython3",
   "version": "3.12.4"
  }
 },
 "nbformat": 4,
 "nbformat_minor": 5
}

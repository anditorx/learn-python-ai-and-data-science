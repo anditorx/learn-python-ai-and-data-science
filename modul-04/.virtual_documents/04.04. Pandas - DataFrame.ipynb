





import pandas as pd


df = pd.DataFrame(data={'Nama': ["Ahmad", "Joko", "Ado"],
                       "Umur": [12, 13, 15],
                       "Kelas": [6,7,8]})


df


df.columns


df.columns.values[0] = "Nama Depan"


df


data = {
    "calories": [420, 380, 390],
    "duration": [50, 40, 45]
}


df = pd.DataFrame(data)


df








# ILOC: Positional indexing
df.iloc[0:2, [0,1]]


# Loc: Label indexing


df.loc[0:2, : 'calories']


df.loc[0:2, ['calories', 'duration']]


df['calories']


df['calories'][0]


df[['calories']].loc[[0, 1]]








data = {
    "calories": [420,380,390],
    "duration": [50, 40, 45]
}


df = pd.DataFrame(data, index = ['data1', 'data2', 'data3'])


print(df)


df.iloc[0:3, 0:1]





df = pd.read_csv('./data.csv')


type(df)





df.head()


df.tail()


df.head(10)


df.shape


df.dtypes





df.info()


df.describe()


df['Calories'].mean()


df['Calories'].median()


df['Calories'].mode()[0]




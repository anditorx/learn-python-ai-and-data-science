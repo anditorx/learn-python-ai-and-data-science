{
 "cells": [
  {
   "cell_type": "markdown",
   "id": "67e2cd0e-78fe-44d6-a1eb-e3f306d5f294",
   "metadata": {},
   "source": [
    "# Import Pandas"
   ]
  },
  {
   "cell_type": "code",
   "execution_count": 1,
   "id": "63db6b12-3d18-4b24-8536-ea9f48ef3ed5",
   "metadata": {},
   "outputs": [],
   "source": [
    "import pandas\n",
    "import pandas as pd"
   ]
  },
  {
   "cell_type": "markdown",
   "id": "3e72cc19-3bb5-4e08-a9de-0b12a1a67767",
   "metadata": {},
   "source": [
    "### Mengecek versi pandas"
   ]
  },
  {
   "cell_type": "code",
   "execution_count": 5,
   "id": "6e9d4326-94a7-46bf-b2cb-d354667e93e6",
   "metadata": {},
   "outputs": [
    {
     "name": "stdout",
     "output_type": "stream",
     "text": [
      "2.2.2\n"
     ]
    }
   ],
   "source": [
    "print(pd.__version__)"
   ]
  },
  {
   "cell_type": "code",
   "execution_count": 6,
   "id": "934137e4-cc22-46c7-b299-10d456674833",
   "metadata": {},
   "outputs": [],
   "source": [
    "# !pip --version\n",
    "# !pip show pandas\n",
    "# !pip install pandas==1.4.3"
   ]
  },
  {
   "cell_type": "code",
   "execution_count": null,
   "id": "50c54f4a-4b29-45b9-acb9-b18d0ad4380b",
   "metadata": {},
   "outputs": [],
   "source": [
    " "
   ]
  },
  {
   "cell_type": "code",
   "execution_count": null,
   "id": "a4c11553-a076-4312-8d2d-ac63b0f562db",
   "metadata": {},
   "outputs": [],
   "source": []
  }
 ],
 "metadata": {
  "kernelspec": {
   "display_name": "Python 3 (ipykernel)",
   "language": "python",
   "name": "python3"
  },
  "language_info": {
   "codemirror_mode": {
    "name": "ipython",
    "version": 3
   },
   "file_extension": ".py",
   "mimetype": "text/x-python",
   "name": "python",
   "nbconvert_exporter": "python",
   "pygments_lexer": "ipython3",
   "version": "3.12.4"
  }
 },
 "nbformat": 4,
 "nbformat_minor": 5
}

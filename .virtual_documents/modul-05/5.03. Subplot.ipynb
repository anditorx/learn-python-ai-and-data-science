


import matplotlib
import matplotlib.pyplot as plt


import seaborn as sns


import numpy as np


xpoints = np.array([1,2,6,8])
ypoints = np.array([3,8,1,10])

plt.plot(xpoints, ypoints)
plt.show()


xpoints = np.array([1,2,6,8])
ypoints = np.array([3,8,1,10])
plt.plot(xpoints, ypoints)

xpoints = np.array([1,2,6,8])
ypoints = np.array([5,3,6,10])
plt.plot(xpoints, ypoints)

plt.show()





# Plot 1
xpoints = np.array([1,2,6,8])
ypoints = np.array([30,80,10,31])
plt.subplot(1,2,1) # 1 row 2 columns
plt.plot(xpoints, ypoints)

# Plot 2
xpoints = np.array([1,2,6,8])
ypoints = np.array([30,80,10,31])
plt.subplot(1,2,2) # 1 row 2 columns
plt.plot(xpoints, ypoints)

plt.show()





# Plot 1
xpoints = np.array([1,2,6,8])
ypoints = np.array([30,80,10,31])
plt.subplot(2,1,1) # 2 row 1 columns
plt.plot(xpoints, ypoints)

# Plot 2
xpoints = np.array([1,2,6,8])
ypoints = np.array([30,80,10,31])
plt.subplot(2,1,2) # 2 row 1 columns
plt.plot(xpoints, ypoints)

plt.show()





# Plot 1
x = np.array([0, 1, 2, 3])
y = np.array([30, 80, 10, 80])

plt.subplot(1, 1, 1) # 2 rows 3 columns pit. plot(x, y)
plt.plot(x,y)

# Plot 2
x = np.array([0, 1, 2, 3])
y = np.array([30, 80, 90, 120])

plt.subplot(2, 3, 2) # 2 rows 3 columns plt. plot(x, y)
plt.plot(x,y)

# Plot 3
x = np.array([0, 1, 2, 3])
y = np.array([30, 80, 10, 80])

plt.subplot(2, 3, 3) # 2 rows 3 columns plt. plot(x, y)
plt.plot(x,y)

# Plot 4
x = np.array([0, 1, 2, 3])
y = np.array([30, 80, 90, 120])

plt.subplot(2, 2, 3) # 2 rows 3 columns plt-plot(x, y)
plt.plot(x, y)

# Plot 5
x = np.array([0, 1, 2, 3])
y = np.array([30, 80, 10, 80])

plt.subplot (2, 3, 4) # 2 rows 3 columns plt.plot(x. v)
plt.plot(x,y)




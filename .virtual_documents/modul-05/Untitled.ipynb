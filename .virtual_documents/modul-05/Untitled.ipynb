


import matplotlib
import matplotlib.pyplot as plt


import seaborn as sns


import numpy as np


xpoints = np.array([0,20])
ypoints = np.array([0,180])


plt.plot(xpoints, ypoints)
plt.show()


xpoints = np.array([0,20])
ypoints = np.array([180,0])


plt.plot(xpoints, ypoints)
plt.show()





xpoints = np.array([0,20])
ypoints = np.array([0,180])

plt.plot(xpoints, ypoints, marker='o')





xpoints = np.array([1,2,6,8])
ypoints = np.array([3,8,1,10])

plt.plot(xpoints, ypoints, marker='o')
plt.show()


ypoints = np.array([0,1,3,8,5,10])

plt.plot(ypoints, marker='o')
plt.show()




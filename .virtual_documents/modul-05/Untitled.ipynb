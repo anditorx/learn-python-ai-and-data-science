


import matplotlib
import matplotlib.pyplot as plt


import seaborn as sns


import numpy as np


xpoints = np.array([1,2,6,8])
ypoints = np.array([3,8,1,10])

plt.plot(xpoints, ypoints)
plt.show()





xpoints = np.array([1,2,6,8])
ypoints = np.array([3,8,1,10])

plt.plot(xpoints, ypoints, marker='o')
plt.show()


xpoints = np.array([1,2,6,8])
ypoints = np.array([3,8,1,10])

plt.plot(xpoints, ypoints, marker='D')
plt.show()





xpoints = np.array([1,2,6,8])
ypoints = np.array([3,8,1,10])

plt.plot(xpoints, ypoints,'-')
plt.show()


xpoints = np.array([1,2,6,8])
ypoints = np.array([3,8,1,10])

plt.plot(xpoints, ypoints,'--')
plt.show()


xpoints = np.array([1,2,6,8])
ypoints = np.array([3,8,1,10])

plt.plot(xpoints, ypoints,':')
plt.show()





xpoints = np.array([1,2,6,8])
ypoints = np.array([3,8,1,10])

plt.plot(xpoints, ypoints,'r')
plt.show()


 xpoints = np.array([1,2,6,8])
ypoints = np.array([3,8,1,10])

plt.plot(xpoints, ypoints,'g')
plt.show()





xpoints = np.array([1,2,6,8])
ypoints = np.array([3,8,1,10])

plt.plot(xpoints, ypoints, marker='o', linestyle='-', c='b')
plt.show()


xpoints = np.array([1,2,6,8])
ypoints = np.array([3,8,1,10])

plt.plot(xpoints, ypoints, '*--r')
plt.show()


xpoints = np.array([1,2,6,8])
ypoints = np.array([3,8,1,10])

plt.plot(xpoints, ypoints, 'D:g')
plt.show()





xpoints = np.array([1,2,6,8])
ypoints = np.array([3,8,1,10])

plt.plot(xpoints, ypoints, marker='o', ms='12', mec='red', mfc='#4CAF50')
plt.show()





xpoints = np.array([1,2,6,8])
ypoints = np.array([3,8,1,10])

plt.plot(xpoints, ypoints)

plt.title("Sports watch data")
plt.xlabel("Average Pulse")
plt.ylabel("Calorie Burnage")

plt.show()


font_title = {'family': 'serif', 'color': 'black', 'size': 20}
font_label = {'family': 'serif', 'color': 'darkred', 'size': 16}

xpoints = np.array([1,2,6,8])
ypoints = np.array([3,8,1,10])

plt.plot(xpoints, ypoints)

plt.title("Sports watch data", fontdict=font_title)
plt.xlabel("Average Pulse", fontdict=font_label)
plt.ylabel("Calorie Burnage", fontdict=font_label)

plt.show()





font_title = {'family': 'serif', 'color': 'black', 'size': 20}
font_label = {'family': 'serif', 'color': 'darkred', 'size': 16}

xpoints = np.array([1,2,6,8])
ypoints = np.array([3,8,1,10])

plt.plot(xpoints, ypoints)

plt.grid()

plt.title("Sports watch data", fontdict=font_title)
plt.xlabel("Average Pulse", fontdict=font_label)
plt.ylabel("Calorie Burnage", fontdict=font_label)

plt.show()





plt.figure(figsize=(5,4))

font_title = {'family': 'serif', 'color': 'black', 'size': 20}
font_label = {'family': 'serif', 'color': 'darkred', 'size': 16}

xpoints = np.array([1,2,6,8])
ypoints = np.array([3,8,1,10])

plt.plot(xpoints, ypoints)

plt.title("Sports watch data", fontdict=font_title)
plt.xlabel("Average Pulse", fontdict=font_label)
plt.ylabel("Calorie Burnage",  fontdict=font_label)

plt.show()




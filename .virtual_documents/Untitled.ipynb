


import matplotlib
import matplotlib.pyplot as plt


import seaborn as sns








print(matplotlib.__version__)


print(sns.__version__)





# !pip --version
# !pip show matplotlib
# !pip install matplotlib==3.5.3




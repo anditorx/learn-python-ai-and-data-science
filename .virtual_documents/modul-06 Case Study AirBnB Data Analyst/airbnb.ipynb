# Copyright © 2022 Indonesia AI. All Rights Reserved.
# contact@aiforindonesia.org


import numpy as np
import pandas as pd

import matplotlib
import matplotlib.pyplot as plt

import warnings
warnings.filterwarnings('ignore')


plt.style.use('seaborn-v0_8')





df_airbnb = pd.read_csv('./airbnb.csv')


df_airbnb.head()


print('Total rows:', df_airbnb.shape[0])
print('Total columns:', df_airbnb.shape[1])





df_airbnb.info()


df_airbnb.describe()


df_airbnb['last_review'] = pd.to_datetime(df_airbnb['last_review'], format='%Y-%m-%d')
last_review = df_airbnb.loc[df_airbnb['last_review'] > '2019-07-01']

last_review.head()


print('Total review:', len(last_review))





df_airbnb.isnull().sum()





df_airbnb = df_airbnb.drop(['id', 'name', 'host_id', 'host_name'], axis=1)


df_airbnb.head()





df_airbnb['last_review'] = df_airbnb['last_review'].fillna(df_airbnb['last_review'].mode()[0])


df_airbnb[['last_review']].isnull().sum()





df_airbnb['reviews_per_month'] = df_airbnb['reviews_per_month'].fillna(df_airbnb['reviews_per_month'].mean())


df_airbnb.isnull().sum()





df_airbnb.sort_values(by=['price'], ascending=False)


price = df_airbnb['price']
print(f'Minimum price is {price.min()} and maximum price is {price.max()}')


df_airbnb.groupby('neighbourhood_group')['price'].agg(['mean', 'median', 'sum'])





df_airbnb['price_category'] = np.where(df_airbnb['price'] < 50, 'Cheap', np.where(df_airbnb['price'] < 100, 'Medium', 'Expensive'))


df_airbnb['price_category'].unique()


df_airbnb.head()





df_Brooklyn = df_airbnb[['neighbourhood_group', 'neighbourhood']].loc[df_airbnb['neighbourhood_group'] == 'Brooklyn']


df_Brooklyn.head()


neighbourhood = []
total = []

neighbourhood_dict_ = df_Brooklyn.value_counts().to_dict()

for key in neighbourhood_dict_:
    neighbourhood.append(key[1]), total.append(neighbourhood_dict_[key])
    
print('Total neighbourhood:', len(neighbourhood))


num_in_plot = 15

for i in range(1, (len(neighbourhood)//num_in_plot)+1):
    
    plt.figure(figsize=(20, 8))
    
    if i is not 30:
        plt.bar(neighbourhood[i:i+num_in_plot], total[i:i+num_in_plot], color=(0.2, 0.4, 0.6, 0.6))
    else:
        plt.bar(neighbourhood[i:], total[i:], color=(0.2, 0.4, 0.6, 0.6))
        
    plt.title(f'Total Neighbourhood in Brooklyn - Plot {i}')
    plt.xlabel('Neighbourhood')
    plt.ylabel('Total')

    plt.tight_layout()

    plt.savefig(f'./images/Total_Neighbourhood_in_Brooklyn_Plot_{i}.png')
    plt.show()


print('Maximum review:', df_airbnb['number_of_reviews'].max())

plt.scatter(df_airbnb['price'], df_airbnb['number_of_reviews'], color='green')
plt.xlabel('Price')
plt.ylabel('Num of reviews')

plt.savefig(f'./images/Relation_Price_Number_of_Reviews.png')
plt.show()


df_airbnb['is_availability'] = np.where(df_airbnb['availability_365'] == 0, 'No', 'Yes')
df_airbnb['is_availability'].value_counts()


plt.pie(df_airbnb['is_availability'].value_counts().tolist(), labels=['Yes', 'No'], autopct='%1.1f%%')

plt.title("Availability")
plt.tight_layout()

plt.savefig('./images/Availability_Pie_Chart.png')
plt.show()


df_airbnb['room_type'].value_counts()





price = df_airbnb['price']
bins = [25, 50, 75, 100, 125, 150, 175, 200]

plt.hist(price, bins = bins, edgecolor = 'y')

plt.savefig('./images/Price_Histogram.png')
plt.show()


price_category = df_airbnb['price_category'].value_counts()
price_category = pd.DataFrame(price_category)
price_category.reset_index(inplace=True)
price_category


price_category.columns = ['category', 'total']

category = price_category['category']
total = price_category['total']


plt.bar(category, total, color=(0.2, 0.2, 0.6, 0.6)) #RGBA

plt.title("Price Category")
plt.xlabel("Category")
plt.ylabel("Total")

plt.tight_layout()

plt.savefig('./images/Price_Category_Bar_Chart.png')
plt.show()


plt.pie(total, labels=list(price_category['category']), explode=[0, 0, 0.1], autopct='%1.1f%%')

plt.title("Price Category")
plt.tight_layout()

plt.savefig('./images/Price_Category_Pie_Chart.png')
plt.show()


plt.figure(figsize=(12, 5))

plt.subplot(1, 2, 1)
plt.bar(category, total)

plt.title("Price Category")
plt.xlabel("Category")
plt.ylabel("Total")

plt.subplot(1, 2, 2)
plt.pie(total, labels=list(price_category['category']), explode=[0, 0, 0.1], autopct='%1.1f%%')

plt.title('Price Category')

plt.suptitle('Price Category Bar & Pie Chart')

plt.tight_layout()
plt.savefig('./images/Price_Category_Bar_Pie_Chart.png')
plt.show()


neighbourhood_group = df_airbnb['neighbourhood_group']
price = df_airbnb['price']


df_ = df_airbnb.groupby('neighbourhood_group')['price'].agg(['mean', 'median', 'sum'])
df_ = df_.sort_values('sum', ascending=False)

df_


neighbourhood_group = df_.index.tolist()
price = df_['sum'].tolist()


plt.bar(neighbourhood_group, price)

plt.title('Room Price Comparison by Group')
plt.xlabel('Neighbourhood Group')
plt.ylabel('Room Price')

plt.tight_layout()
plt.savefig('./images/Room_Price_Comparison_by_Group.png')
plt.show()


df_price_lt_ld = df_airbnb.loc[df_airbnb['price'] < 500, ['price', 'longitude', 'latitude']]
price = df_price_lt_ld['price']

x = df_price_lt_ld['longitude']
y = df_price_lt_ld['latitude']


plt.figure(figsize=(10,8))

nyc_img = plt.imread('./Neighbourhoods_New_York_City_Map.png')
plt.imshow(nyc_img, extent=[-74.258, -73.7, 40.49,40.92])

plt.scatter(x , y, c=price, label='Availability', cmap='jet', alpha=0.4)

plt.grid(False)
cbar = plt.colorbar()
cbar.set_label('Price')

plt.title('Availability of New York City Room Rates Map')
plt.xlabel('longitude')
plt.ylabel('latitude')
plt.legend()
plt.tight_layout()

plt.savefig('./images/New_York_City_Room_Rates_Map.png')
plt.show()




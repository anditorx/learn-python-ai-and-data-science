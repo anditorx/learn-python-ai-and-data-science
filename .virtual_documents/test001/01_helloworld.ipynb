helloTest = "Hello world"


print(helloTest)


name = "Andito"
print(name)




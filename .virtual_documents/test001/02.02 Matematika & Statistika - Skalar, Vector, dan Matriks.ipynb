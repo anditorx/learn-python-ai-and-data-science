x = min(5,10,25)
y = max(5,10,25)


x,y


x = abs(-7.25)


x


import math


x = math.pow(4,3)


x


x = math.sqrt(64)


x


x = math.ceil(1.4)
y = math.floor(1.4)


x, y


x = math.pi


x


import numpy as np


A = np.array([[80,30,25],[50,20,10]])
B = np.array([[30,60,15],[10,30,50]])
hasil_penjualan = A + B


hasil_penjualan


A = np.array([10,20,15])
B = np.array([5,15,10])
hasil = np.dot(A, B)


hasil


hasil = np.cross(A, B)


hasil




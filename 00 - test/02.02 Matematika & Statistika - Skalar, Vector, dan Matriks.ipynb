{
 "cells": [
  {
   "cell_type": "code",
   "execution_count": 1,
   "id": "eac2980d-af6b-4bfe-8a74-2c15798d26b7",
   "metadata": {},
   "outputs": [],
   "source": [
    "x = min(5,10,25)\n",
    "y = max(5,10,25)"
   ]
  },
  {
   "cell_type": "code",
   "execution_count": 2,
   "id": "169fecb3-3ca9-46ab-a54c-6d42dde3f3af",
   "metadata": {},
   "outputs": [
    {
     "data": {
      "text/plain": [
       "(5, 25)"
      ]
     },
     "execution_count": 2,
     "metadata": {},
     "output_type": "execute_result"
    }
   ],
   "source": [
    "x,y"
   ]
  },
  {
   "cell_type": "code",
   "execution_count": 4,
   "id": "ace25008-14db-4ea3-ae5c-737d032c89de",
   "metadata": {},
   "outputs": [],
   "source": [
    "x = abs(-7.25)"
   ]
  },
  {
   "cell_type": "code",
   "execution_count": 5,
   "id": "3bac0d9f-d7dc-4e1f-b4e4-db53c15e4f67",
   "metadata": {},
   "outputs": [
    {
     "data": {
      "text/plain": [
       "7.25"
      ]
     },
     "execution_count": 5,
     "metadata": {},
     "output_type": "execute_result"
    }
   ],
   "source": [
    "x"
   ]
  },
  {
   "cell_type": "code",
   "execution_count": 6,
   "id": "02a9d379-59e0-469e-8d49-75a244b91321",
   "metadata": {},
   "outputs": [],
   "source": [
    "import math"
   ]
  },
  {
   "cell_type": "code",
   "execution_count": 9,
   "id": "457d5711-3d30-4826-84f4-487aceb10bb6",
   "metadata": {},
   "outputs": [],
   "source": [
    "x = math.pow(4,3)"
   ]
  },
  {
   "cell_type": "code",
   "execution_count": 10,
   "id": "4c282f0e-ca2c-421b-87a7-913cdad2ce3a",
   "metadata": {},
   "outputs": [
    {
     "data": {
      "text/plain": [
       "64.0"
      ]
     },
     "execution_count": 10,
     "metadata": {},
     "output_type": "execute_result"
    }
   ],
   "source": [
    "x"
   ]
  },
  {
   "cell_type": "code",
   "execution_count": 11,
   "id": "72748fcc-da7d-4913-b0e8-e5d2711b0fb0",
   "metadata": {},
   "outputs": [],
   "source": [
    "x = math.sqrt(64)"
   ]
  },
  {
   "cell_type": "code",
   "execution_count": 12,
   "id": "0f06d516-e9ad-4e2b-bd93-f6d33695fea3",
   "metadata": {},
   "outputs": [
    {
     "data": {
      "text/plain": [
       "8.0"
      ]
     },
     "execution_count": 12,
     "metadata": {},
     "output_type": "execute_result"
    }
   ],
   "source": [
    "x"
   ]
  },
  {
   "cell_type": "code",
   "execution_count": 14,
   "id": "6aaa4fbe-d111-431d-b41c-3a44e8809692",
   "metadata": {},
   "outputs": [],
   "source": [
    "x = math.ceil(1.4)\n",
    "y = math.floor(1.4)"
   ]
  },
  {
   "cell_type": "code",
   "execution_count": 15,
   "id": "618ea63e-4efd-4201-9833-11dc0f992769",
   "metadata": {},
   "outputs": [
    {
     "data": {
      "text/plain": [
       "(2, 1)"
      ]
     },
     "execution_count": 15,
     "metadata": {},
     "output_type": "execute_result"
    }
   ],
   "source": [
    "x, y"
   ]
  },
  {
   "cell_type": "code",
   "execution_count": 16,
   "id": "ced3c7c9-74ad-47e2-a3df-a2deba7b28c5",
   "metadata": {},
   "outputs": [],
   "source": [
    "x = math.pi"
   ]
  },
  {
   "cell_type": "code",
   "execution_count": 17,
   "id": "672bea2e-02a4-4627-ae89-b468d0bd8843",
   "metadata": {},
   "outputs": [
    {
     "data": {
      "text/plain": [
       "3.141592653589793"
      ]
     },
     "execution_count": 17,
     "metadata": {},
     "output_type": "execute_result"
    }
   ],
   "source": [
    "x"
   ]
  },
  {
   "cell_type": "code",
   "execution_count": 18,
   "id": "4aa6676e-4f0d-48fe-8314-a5662778e42f",
   "metadata": {},
   "outputs": [],
   "source": [
    "import numpy as np"
   ]
  },
  {
   "cell_type": "code",
   "execution_count": 19,
   "id": "8b52fd8b-5511-416a-9c96-bfd6dce658ba",
   "metadata": {},
   "outputs": [],
   "source": [
    "A = np.array([[80,30,25],[50,20,10]])\n",
    "B = np.array([[30,60,15],[10,30,50]])\n",
    "hasil_penjualan = A + B"
   ]
  },
  {
   "cell_type": "code",
   "execution_count": 20,
   "id": "9afafb71-f841-4529-9988-cc9e12b1473a",
   "metadata": {},
   "outputs": [
    {
     "data": {
      "text/plain": [
       "array([[110,  90,  40],\n",
       "       [ 60,  50,  60]])"
      ]
     },
     "execution_count": 20,
     "metadata": {},
     "output_type": "execute_result"
    }
   ],
   "source": [
    "hasil_penjualan"
   ]
  },
  {
   "cell_type": "code",
   "execution_count": 28,
   "id": "9bbefec2-9508-4c39-b322-8befea207d50",
   "metadata": {},
   "outputs": [],
   "source": [
    "A = np.array([10,20,15])\n",
    "B = np.array([5,15,10])\n",
    "hasil = np.dot(A, B)"
   ]
  },
  {
   "cell_type": "code",
   "execution_count": 29,
   "id": "c17a5620-7e13-4a16-adbd-4d51b2659b34",
   "metadata": {},
   "outputs": [
    {
     "data": {
      "text/plain": [
       "500"
      ]
     },
     "execution_count": 29,
     "metadata": {},
     "output_type": "execute_result"
    }
   ],
   "source": [
    "hasil"
   ]
  },
  {
   "cell_type": "code",
   "execution_count": 30,
   "id": "92afd6be-5e47-44d5-bd5d-d9dc8726cbc6",
   "metadata": {},
   "outputs": [],
   "source": [
    "hasil = np.cross(A, B)"
   ]
  },
  {
   "cell_type": "code",
   "execution_count": 31,
   "id": "4c1355f8-b0cf-41bd-bc4c-3889f072dbe2",
   "metadata": {},
   "outputs": [
    {
     "data": {
      "text/plain": [
       "array([-25, -25,  50])"
      ]
     },
     "execution_count": 31,
     "metadata": {},
     "output_type": "execute_result"
    }
   ],
   "source": [
    "hasil"
   ]
  },
  {
   "cell_type": "code",
   "execution_count": null,
   "id": "6e696ed8-1799-4c93-b05a-0a41d7b3437a",
   "metadata": {},
   "outputs": [],
   "source": []
  }
 ],
 "metadata": {
  "kernelspec": {
   "display_name": "Python 3 (ipykernel)",
   "language": "python",
   "name": "python3"
  },
  "language_info": {
   "codemirror_mode": {
    "name": "ipython",
    "version": 3
   },
   "file_extension": ".py",
   "mimetype": "text/x-python",
   "name": "python",
   "nbconvert_exporter": "python",
   "pygments_lexer": "ipython3",
   "version": "3.12.4"
  }
 },
 "nbformat": 4,
 "nbformat_minor": 5
}

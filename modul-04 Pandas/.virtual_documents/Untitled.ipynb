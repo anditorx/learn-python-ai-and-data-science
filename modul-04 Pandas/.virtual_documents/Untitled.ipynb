





import pandas as pd


df = pd.read_csv('./dirty_data.csv')


df


# ILOC: Positional indexing
df.iloc[0:2, [0,1]]


# LOC: Label indexing
df.loc[0:2, ['Duration', 'Date']]


df_filtered = df.loc[df['Pulse'] > 110]


df.head()


df_filtered


df.loc[df['Pulse'] > 110, ['Maxpulse']]


df_45_450 = df[df['Duration'].isin([45, 450])]


df_45_450


import numpy as np


condition1 = (df['Calories'] >= 400)
condition2 = (df['Pulse'] > 90)


df.loc[np.where(condition1 & condition2)]





df.sort_values(by=['Pulse'], ascending=False)


df_sort_calories = df.sort_values(by=['Calories'], ascending=True)


df_sort_calories


df_sort_calories.head()





df['Level'] = np.where(df['Maxpulse'] > 130, 'High', 'Low')


df.head()


df['Year'] = '2020'


df.head()





df.groupby('Level')['Maxpulse'].agg(['mean', 'sum'])





df.head()


add_df = pd.DataFrame({'Duration': [120,130,110],
                      'Date': ['2020/12/02','2020/12/03','2020/12/04'],
                      'Pulse': [110,120,130],
                      'Maxpulse': [135,145,175],
                       'Calories': [400.0, 420.0, 430.0],
                       'Level': ['Low', 'Low', 'High'],
                       'Year': [2020,2020,2020]
                      })


add_df


df.head()


frames = [df, add_df]
new_df = pd.concat(frames, axis=0)


new_df


new_df.tail()


more_df = pd.DataFrame({'Name': ['Angga', 'Mardadi', 'Rowi'],
                       'Domicile' : ['Depok', 'Depok', 'Depok']})


more_df


add_df


frames = [add_df, more_df]
new_df = pd.concat(frames, axis = 1)


new_df


add_df = pd.DataFrame({'ID': [1,2,3],
                      'Duration': [120, 130, 110],
                      'Date': ['2020/12/02', '2020/12/03', '2020/12/04'],
                      'Pulse': [110, 120,130],
                      'Maxpulse': [135, 145, 175],
                      'Calories': [400.0, 430.0, 430.0],
                      'Level': ['Low', 'Low', 'High'],
                      'Year': [2020, 2020, 2020]})

more_df = pd.DataFrame({'ID': [3,4,5],
                       'Name': ['Angga', 'Mardadi', 'Rowi'],
                       'Domicile': ['Depok', 'Depok', 'Depok']})


add_df


more_df


pd.merge(left=add_df, right=more_df, how='inner', on='ID')


pd.merge(left=add_df, right=more_df, how='left', on='ID')


pd.merge(left=add_df, right=more_df, how='right', on='ID')








df.to_csv('./new_data.csv')


df.to_csv('./new_data.csv', index=False)




{
 "cells": [
  {
   "cell_type": "markdown",
   "id": "47ba821b-0e93-486b-aed7-c7e2a03a7266",
   "metadata": {},
   "source": [
    "# Membuat series dari sebuah list python"
   ]
  },
  {
   "cell_type": "code",
   "execution_count": 1,
   "id": "f9683325-1a5c-4c17-9f38-db1ed6d5c262",
   "metadata": {},
   "outputs": [],
   "source": [
    "import pandas as pd"
   ]
  },
  {
   "cell_type": "code",
   "execution_count": 2,
   "id": "f2301f01-0c77-4a14-9e1c-775fc219a510",
   "metadata": {},
   "outputs": [],
   "source": [
    "li = [1, 7, 2]\n",
    "se = pd.Series(li)"
   ]
  },
  {
   "cell_type": "code",
   "execution_count": 3,
   "id": "42343d58-d0fd-4d43-83b7-cc7015d22898",
   "metadata": {},
   "outputs": [
    {
     "name": "stdout",
     "output_type": "stream",
     "text": [
      "0    1\n",
      "1    7\n",
      "2    2\n",
      "dtype: int64\n"
     ]
    }
   ],
   "source": [
    "print(se)"
   ]
  },
  {
   "cell_type": "code",
   "execution_count": 4,
   "id": "95d91115-cae7-456f-a736-631abd151b05",
   "metadata": {},
   "outputs": [
    {
     "data": {
      "text/plain": [
       "pandas.core.series.Series"
      ]
     },
     "execution_count": 4,
     "metadata": {},
     "output_type": "execute_result"
    }
   ],
   "source": [
    "type(se)"
   ]
  },
  {
   "cell_type": "code",
   "execution_count": 5,
   "id": "7d63fad5-49d6-454f-837c-ea9f41288640",
   "metadata": {},
   "outputs": [],
   "source": [
    "import numpy as np"
   ]
  },
  {
   "cell_type": "code",
   "execution_count": 6,
   "id": "42292357-6cf5-43e9-82bc-04752dc84292",
   "metadata": {},
   "outputs": [],
   "source": [
    "arr = np.array([1,7,2])\n",
    "se = pd.Series(arr)"
   ]
  },
  {
   "cell_type": "code",
   "execution_count": 7,
   "id": "0caaaef6-90bb-448b-b08f-e23fbad911da",
   "metadata": {},
   "outputs": [
    {
     "data": {
      "text/plain": [
       "0    1\n",
       "1    7\n",
       "2    2\n",
       "dtype: int64"
      ]
     },
     "execution_count": 7,
     "metadata": {},
     "output_type": "execute_result"
    }
   ],
   "source": [
    "se"
   ]
  },
  {
   "cell_type": "code",
   "execution_count": 8,
   "id": "ca20092d-6b61-4cbe-a9f8-575e02c6f74d",
   "metadata": {},
   "outputs": [
    {
     "data": {
      "text/plain": [
       "pandas.core.series.Series"
      ]
     },
     "execution_count": 8,
     "metadata": {},
     "output_type": "execute_result"
    }
   ],
   "source": [
    "type(se)"
   ]
  },
  {
   "cell_type": "code",
   "execution_count": null,
   "id": "1f5240a5-51c3-4ce8-9d48-22f3e469dded",
   "metadata": {},
   "outputs": [],
   "source": []
  },
  {
   "cell_type": "markdown",
   "id": "dbaad3b3-0896-4624-bf96-28b58e811941",
   "metadata": {},
   "source": [
    "### Mengakses element pada series"
   ]
  },
  {
   "cell_type": "code",
   "execution_count": 9,
   "id": "1e769e31-6840-4b62-b6b7-a07ede0d6fec",
   "metadata": {},
   "outputs": [],
   "source": [
    "li = [1, 7, 2]\n",
    "se = pd.Series(li)"
   ]
  },
  {
   "cell_type": "code",
   "execution_count": 10,
   "id": "0c7a1241-b9e8-4b3b-b8b4-768b3394f6ab",
   "metadata": {},
   "outputs": [
    {
     "name": "stdout",
     "output_type": "stream",
     "text": [
      "0    1\n",
      "1    7\n",
      "2    2\n",
      "dtype: int64\n"
     ]
    }
   ],
   "source": [
    "print(se)"
   ]
  },
  {
   "cell_type": "code",
   "execution_count": 11,
   "id": "dce92d78-55e0-40aa-8201-7693bb3f0970",
   "metadata": {},
   "outputs": [
    {
     "name": "stdout",
     "output_type": "stream",
     "text": [
      "0    1\n",
      "1    7\n",
      "dtype: int64\n"
     ]
    }
   ],
   "source": [
    "print(se[0:2])"
   ]
  },
  {
   "cell_type": "markdown",
   "id": "4d6aeada-f2b0-435a-8cc2-8b8c340e0a4f",
   "metadata": {},
   "source": [
    "### Memberi label pada Series"
   ]
  },
  {
   "cell_type": "code",
   "execution_count": 12,
   "id": "02314833-f181-4b38-bb80-80222f43cb9e",
   "metadata": {},
   "outputs": [],
   "source": [
    "li = [1, 7, 2]\n",
    "se = pd.Series(li, index=['x','y','z'])"
   ]
  },
  {
   "cell_type": "code",
   "execution_count": 13,
   "id": "fa4980bc-0ca5-420c-b586-84121321529d",
   "metadata": {},
   "outputs": [
    {
     "data": {
      "text/plain": [
       "x    1\n",
       "y    7\n",
       "z    2\n",
       "dtype: int64"
      ]
     },
     "execution_count": 13,
     "metadata": {},
     "output_type": "execute_result"
    }
   ],
   "source": [
    "se"
   ]
  },
  {
   "cell_type": "code",
   "execution_count": 14,
   "id": "e7b61a83-232c-43e4-b060-8a6082cbce11",
   "metadata": {},
   "outputs": [
    {
     "name": "stdout",
     "output_type": "stream",
     "text": [
      "1\n"
     ]
    }
   ],
   "source": [
    "print(se['x'])"
   ]
  },
  {
   "cell_type": "code",
   "execution_count": 15,
   "id": "16b7404e-3398-4fc4-89fc-743bc52d3aea",
   "metadata": {},
   "outputs": [
    {
     "name": "stdout",
     "output_type": "stream",
     "text": [
      "7\n"
     ]
    }
   ],
   "source": [
    "print(se['y'])"
   ]
  },
  {
   "cell_type": "markdown",
   "id": "d2b3e1e9-3b86-4218-ba1b-536f3725f252",
   "metadata": {},
   "source": [
    "### Membuat series dari Dictionary"
   ]
  },
  {
   "cell_type": "code",
   "execution_count": 16,
   "id": "93fe471d-e2b7-4bc0-9be2-f4490715e2f7",
   "metadata": {},
   "outputs": [],
   "source": [
    "calories = {\"day1\": 420, \"day\": 380, \"day3\": 390}\n",
    "se = pd.Series(calories)"
   ]
  },
  {
   "cell_type": "code",
   "execution_count": 17,
   "id": "322c0a64-32ac-4452-8004-391d31e1544d",
   "metadata": {},
   "outputs": [
    {
     "data": {
      "text/plain": [
       "day1    420\n",
       "day     380\n",
       "day3    390\n",
       "dtype: int64"
      ]
     },
     "execution_count": 17,
     "metadata": {},
     "output_type": "execute_result"
    }
   ],
   "source": [
    "se"
   ]
  },
  {
   "cell_type": "code",
   "execution_count": 18,
   "id": "61483aaf-2d71-4293-af15-6b726bbf320f",
   "metadata": {},
   "outputs": [
    {
     "data": {
      "text/plain": [
       "pandas.core.series.Series"
      ]
     },
     "execution_count": 18,
     "metadata": {},
     "output_type": "execute_result"
    }
   ],
   "source": [
    "type(se)"
   ]
  },
  {
   "cell_type": "code",
   "execution_count": null,
   "id": "8468612c-b43e-4049-baa8-b48ce8ff3056",
   "metadata": {},
   "outputs": [],
   "source": []
  }
 ],
 "metadata": {
  "kernelspec": {
   "display_name": "Python 3 (ipykernel)",
   "language": "python",
   "name": "python3"
  },
  "language_info": {
   "codemirror_mode": {
    "name": "ipython",
    "version": 3
   },
   "file_extension": ".py",
   "mimetype": "text/x-python",
   "name": "python",
   "nbconvert_exporter": "python",
   "pygments_lexer": "ipython3",
   "version": "3.12.4"
  }
 },
 "nbformat": 4,
 "nbformat_minor": 5
}

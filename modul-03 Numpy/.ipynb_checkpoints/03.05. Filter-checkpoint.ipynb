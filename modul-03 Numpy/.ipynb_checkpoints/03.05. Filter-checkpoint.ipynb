{
 "cells": [
  {
   "cell_type": "markdown",
   "id": "bb04023b-345f-4b02-8905-8275738422d2",
   "metadata": {},
   "source": [
    "# Filter"
   ]
  },
  {
   "cell_type": "raw",
   "id": "600fb569-0d9b-45b6-baff-2471e66dc88d",
   "metadata": {},
   "source": [
    "Proses filter digunakan untuk mendapatkan beberapa bagian Array dari satu Array yang utuh.\n",
    "Filtering bekerja berdasarkan nilai boolean true atau false yang diterimanya."
   ]
  },
  {
   "cell_type": "code",
   "execution_count": 1,
   "id": "9185dc5d-04c0-4fe3-a130-7e45a55eb24a",
   "metadata": {},
   "outputs": [],
   "source": [
    "import numpy as np"
   ]
  },
  {
   "cell_type": "code",
   "execution_count": null,
   "id": "c1512372-4fb1-402c-b6f5-67933e30fe4d",
   "metadata": {},
   "outputs": [],
   "source": []
  },
  {
   "cell_type": "markdown",
   "id": "d28f6088-e220-4b03-89a2-ad3d93447b71",
   "metadata": {},
   "source": [
    "### Filter pada numpy Array 1D"
   ]
  },
  {
   "cell_type": "code",
   "execution_count": 4,
   "id": "3d1628b2-4110-4dd8-93db-9ee96d8fe9a8",
   "metadata": {},
   "outputs": [],
   "source": [
    "arr = np.array([41, 42, 43, 44])"
   ]
  },
  {
   "cell_type": "code",
   "execution_count": 5,
   "id": "d90ace5d-0010-4df2-b8d7-ca2054ff3858",
   "metadata": {},
   "outputs": [],
   "source": [
    "x = [True, False, True, False]"
   ]
  },
  {
   "cell_type": "code",
   "execution_count": 6,
   "id": "7d79d1aa-729e-48ee-aa55-22f332fc78a9",
   "metadata": {},
   "outputs": [],
   "source": [
    "arr = arr[x]"
   ]
  },
  {
   "cell_type": "code",
   "execution_count": 7,
   "id": "2c7e42fe-d181-40db-a80f-aaf0e7ca41d1",
   "metadata": {},
   "outputs": [
    {
     "name": "stdout",
     "output_type": "stream",
     "text": [
      "[41 43]\n"
     ]
    }
   ],
   "source": [
    "print(arr)"
   ]
  },
  {
   "cell_type": "code",
   "execution_count": null,
   "id": "2fe47de3-8386-41a0-8c33-32f17f5a231a",
   "metadata": {},
   "outputs": [],
   "source": []
  },
  {
   "cell_type": "code",
   "execution_count": 8,
   "id": "31039fb8-8c4b-42bf-b4d0-29f2b42f9f80",
   "metadata": {},
   "outputs": [],
   "source": [
    "arr = np.array([41, 42, 43, 44])"
   ]
  },
  {
   "cell_type": "code",
   "execution_count": 9,
   "id": "3e6c69c9-3a57-4537-a5c9-bedf5ca36db5",
   "metadata": {},
   "outputs": [],
   "source": [
    "filter_arr = arr > 42"
   ]
  },
  {
   "cell_type": "code",
   "execution_count": 10,
   "id": "26b3cd85-15e8-4ab0-b4be-a99811cc0395",
   "metadata": {},
   "outputs": [
    {
     "data": {
      "text/plain": [
       "array([False, False,  True,  True])"
      ]
     },
     "execution_count": 10,
     "metadata": {},
     "output_type": "execute_result"
    }
   ],
   "source": [
    "filter_arr"
   ]
  },
  {
   "cell_type": "code",
   "execution_count": 11,
   "id": "0bb36d59-a5fd-46d3-8afb-253c42f5e4e6",
   "metadata": {},
   "outputs": [],
   "source": [
    "arr = arr[filter_arr]"
   ]
  },
  {
   "cell_type": "code",
   "execution_count": 12,
   "id": "76ec6cc2-e83f-46b6-85e7-da6bd62dfb95",
   "metadata": {},
   "outputs": [
    {
     "data": {
      "text/plain": [
       "array([43, 44])"
      ]
     },
     "execution_count": 12,
     "metadata": {},
     "output_type": "execute_result"
    }
   ],
   "source": [
    "arr"
   ]
  },
  {
   "cell_type": "code",
   "execution_count": null,
   "id": "7f6e5b19-d300-405e-b2b1-e334c4d2c085",
   "metadata": {},
   "outputs": [],
   "source": []
  },
  {
   "cell_type": "code",
   "execution_count": 13,
   "id": "4b939119-e818-4cd7-8671-1f9fedc7a933",
   "metadata": {},
   "outputs": [],
   "source": [
    "arr = np.array([1,2,3,4,5,6,7])"
   ]
  },
  {
   "cell_type": "code",
   "execution_count": 14,
   "id": "11aca664-8e88-481c-aef2-6f76ee806ac0",
   "metadata": {},
   "outputs": [],
   "source": [
    "filter_arr = arr & 2 == 0"
   ]
  },
  {
   "cell_type": "code",
   "execution_count": 15,
   "id": "0a42da4a-fed2-4204-8cca-73a0b25e0638",
   "metadata": {},
   "outputs": [],
   "source": [
    "arr = arr[filter_arr]"
   ]
  },
  {
   "cell_type": "code",
   "execution_count": 16,
   "id": "1a127f0a-e60e-4b65-b5e4-adae044356bc",
   "metadata": {},
   "outputs": [
    {
     "data": {
      "text/plain": [
       "array([1, 4, 5])"
      ]
     },
     "execution_count": 16,
     "metadata": {},
     "output_type": "execute_result"
    }
   ],
   "source": [
    "arr"
   ]
  },
  {
   "cell_type": "code",
   "execution_count": null,
   "id": "0ec555c6-bb82-415f-918c-7eaf13120d15",
   "metadata": {},
   "outputs": [],
   "source": []
  },
  {
   "cell_type": "markdown",
   "id": "4d47cfa8-a5ea-40f4-8fa4-69ef899f217c",
   "metadata": {},
   "source": [
    "### Filter pada Numpy Array 1D menggunakan lebih dari 1 kondisi"
   ]
  },
  {
   "cell_type": "code",
   "execution_count": 17,
   "id": "1629e306-5da3-466a-aadc-6e2b411991f2",
   "metadata": {},
   "outputs": [],
   "source": [
    "arr = np.array([1,2,3,4,5,6,7])"
   ]
  },
  {
   "cell_type": "code",
   "execution_count": 21,
   "id": "e138f440-85bc-4733-b5a3-5bd35f47d0b1",
   "metadata": {},
   "outputs": [],
   "source": [
    "filter_arr = (arr % 2 == 0) & (arr > 2)"
   ]
  },
  {
   "cell_type": "code",
   "execution_count": 22,
   "id": "2fcfe9a8-503b-4b43-8f8e-d993ef07d0cc",
   "metadata": {},
   "outputs": [],
   "source": [
    "arr = arr[filter_arr]"
   ]
  },
  {
   "cell_type": "code",
   "execution_count": 23,
   "id": "bf79ad1e-2191-4f52-b178-c2d65ac2e177",
   "metadata": {},
   "outputs": [
    {
     "data": {
      "text/plain": [
       "array([4, 6])"
      ]
     },
     "execution_count": 23,
     "metadata": {},
     "output_type": "execute_result"
    }
   ],
   "source": [
    "arr"
   ]
  },
  {
   "cell_type": "code",
   "execution_count": null,
   "id": "da8f5a4e-6af0-4ae9-ba82-f05950d56b43",
   "metadata": {},
   "outputs": [],
   "source": []
  },
  {
   "cell_type": "markdown",
   "id": "a779c6c3-1c69-446b-86e0-e79f59ee604d",
   "metadata": {},
   "source": [
    "### Filter pada Numpy Array 2D"
   ]
  },
  {
   "cell_type": "code",
   "execution_count": 24,
   "id": "18ba0b5c-4089-4434-94cd-9e16b5826358",
   "metadata": {},
   "outputs": [],
   "source": [
    "arr = np.array([['1', 'one'],\n",
    "               ['2', 'two'],\n",
    "               ['3', 'three'],\n",
    "               ['4', 'four'],\n",
    "               ['5', 'five']])"
   ]
  },
  {
   "cell_type": "code",
   "execution_count": 25,
   "id": "458e141c-5526-42db-a4e5-d78e0e4b3921",
   "metadata": {},
   "outputs": [
    {
     "data": {
      "text/plain": [
       "(5, 2)"
      ]
     },
     "execution_count": 25,
     "metadata": {},
     "output_type": "execute_result"
    }
   ],
   "source": [
    "arr.shape"
   ]
  },
  {
   "cell_type": "code",
   "execution_count": 26,
   "id": "9a6efc4e-d12f-4055-b822-d2438fd1c766",
   "metadata": {},
   "outputs": [],
   "source": [
    "filter_arr = np.array([\"two\", \"four\"])"
   ]
  },
  {
   "cell_type": "code",
   "execution_count": 27,
   "id": "808f8cdc-0c11-44d0-86f2-8997405a07fc",
   "metadata": {},
   "outputs": [],
   "source": [
    "arr = arr[np.in1d(arr[:,1], filter_arr)]"
   ]
  },
  {
   "cell_type": "code",
   "execution_count": 28,
   "id": "cc1b052d-d7d7-4444-88b5-3d834d20a9e4",
   "metadata": {},
   "outputs": [
    {
     "data": {
      "text/plain": [
       "array([['2', 'two'],\n",
       "       ['4', 'four']], dtype='<U5')"
      ]
     },
     "execution_count": 28,
     "metadata": {},
     "output_type": "execute_result"
    }
   ],
   "source": [
    "arr"
   ]
  },
  {
   "cell_type": "code",
   "execution_count": null,
   "id": "df581b0c-f243-4ba2-af07-79026c8f0144",
   "metadata": {},
   "outputs": [],
   "source": []
  }
 ],
 "metadata": {
  "kernelspec": {
   "display_name": "Python 3 (ipykernel)",
   "language": "python",
   "name": "python3"
  },
  "language_info": {
   "codemirror_mode": {
    "name": "ipython",
    "version": 3
   },
   "file_extension": ".py",
   "mimetype": "text/x-python",
   "name": "python",
   "nbconvert_exporter": "python",
   "pygments_lexer": "ipython3",
   "version": "3.12.4"
  }
 },
 "nbformat": 4,
 "nbformat_minor": 5
}

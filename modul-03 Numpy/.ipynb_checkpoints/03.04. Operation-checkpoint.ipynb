{
 "cells": [
  {
   "cell_type": "markdown",
   "id": "052e8aba-bf15-4665-9090-ec3fa699ea47",
   "metadata": {},
   "source": [
    "# Operation"
   ]
  },
  {
   "cell_type": "code",
   "execution_count": null,
   "id": "1da24f55-5489-440f-8545-ae71bbb5c428",
   "metadata": {},
   "outputs": [],
   "source": []
  },
  {
   "cell_type": "code",
   "execution_count": 1,
   "id": "a0453f59-8541-4c41-846f-d831f339175c",
   "metadata": {},
   "outputs": [],
   "source": [
    "import numpy as np"
   ]
  },
  {
   "cell_type": "markdown",
   "id": "8c5662a2-de0e-4686-a66b-a886d5f2a5ff",
   "metadata": {},
   "source": [
    "### Iterasi pada Numpy Array 1D"
   ]
  },
  {
   "cell_type": "code",
   "execution_count": 2,
   "id": "48617000-4bdf-414e-a352-390943419410",
   "metadata": {},
   "outputs": [],
   "source": [
    "arr = np.array([1,2,3,4,5])"
   ]
  },
  {
   "cell_type": "code",
   "execution_count": 3,
   "id": "b60e565d-006c-4261-9c0c-11426765a40a",
   "metadata": {},
   "outputs": [
    {
     "name": "stdout",
     "output_type": "stream",
     "text": [
      "1\n",
      "2\n",
      "3\n",
      "4\n",
      "5\n"
     ]
    }
   ],
   "source": [
    "for x in arr:\n",
    "    print(x)"
   ]
  },
  {
   "cell_type": "markdown",
   "id": "ec3ecc2b-31a2-4215-817c-2e24222b1402",
   "metadata": {},
   "source": [
    "### Iterasi pada Numpy Array 2D"
   ]
  },
  {
   "cell_type": "code",
   "execution_count": 4,
   "id": "cca39148-027c-4840-b97a-8c20f785a8f3",
   "metadata": {},
   "outputs": [],
   "source": [
    "arr = np.array([[1,2,3],[4,5,6]])"
   ]
  },
  {
   "cell_type": "code",
   "execution_count": 5,
   "id": "cfa1fe74-ccf3-4303-a7af-0b44b850a035",
   "metadata": {},
   "outputs": [
    {
     "name": "stdout",
     "output_type": "stream",
     "text": [
      "[1 2 3]\n",
      "[4 5 6]\n"
     ]
    }
   ],
   "source": [
    "for x in arr:\n",
    "    print(x)"
   ]
  },
  {
   "cell_type": "markdown",
   "id": "f2e8042a-5dab-48c1-adf3-51e3ad6f1091",
   "metadata": {},
   "source": [
    "### Iterasi pada Numpy Array 3D"
   ]
  },
  {
   "cell_type": "code",
   "execution_count": 6,
   "id": "845c7d13-32f9-4e91-8d46-931578a8101a",
   "metadata": {},
   "outputs": [],
   "source": [
    "arr = np.array([[[1,2,3],[4,5,6]],[[7,8,9],[10,11,12]]])"
   ]
  },
  {
   "cell_type": "code",
   "execution_count": 7,
   "id": "383f1542-097c-4188-b309-6bfda7eaf531",
   "metadata": {},
   "outputs": [
    {
     "name": "stdout",
     "output_type": "stream",
     "text": [
      "[[1 2 3]\n",
      " [4 5 6]]\n",
      "[[ 7  8  9]\n",
      " [10 11 12]]\n"
     ]
    }
   ],
   "source": [
    "for x in arr:\n",
    "    print(x)"
   ]
  },
  {
   "cell_type": "code",
   "execution_count": null,
   "id": "284018c3-b3d2-47a9-82ee-7c201b53200c",
   "metadata": {},
   "outputs": [],
   "source": []
  },
  {
   "cell_type": "markdown",
   "id": "4c3f264f-65d4-4123-a90d-8e931368ee89",
   "metadata": {},
   "source": [
    "## Array Iterating nditer()"
   ]
  },
  {
   "cell_type": "raw",
   "id": "45309cb0-6259-47e1-a22a-c98bd7af49c5",
   "metadata": {},
   "source": [
    "Fungsi nditer adalah fungsi khusus untuk membantu melakukan iterasi pada setiap elemen di level skalar.\n",
    "Ini membantu ketika kita ingin mengakses elemen yang berada pada Array dengan dimensi besar."
   ]
  },
  {
   "cell_type": "markdown",
   "id": "b2b3d12e-fee7-46f1-bd16-91559c8defaf",
   "metadata": {},
   "source": [
    "### Iterasi dengan nditer"
   ]
  },
  {
   "cell_type": "code",
   "execution_count": 8,
   "id": "e855e8d0-ef94-42c9-88f0-4ec69bcff467",
   "metadata": {},
   "outputs": [],
   "source": [
    "arr = np.array([[[1,2,3],[4,5,6]],[[7,8,9],[10,11,12]]])"
   ]
  },
  {
   "cell_type": "code",
   "execution_count": 9,
   "id": "5423e932-a3f4-4e8a-b5fc-d7ebab193fdf",
   "metadata": {},
   "outputs": [
    {
     "name": "stdout",
     "output_type": "stream",
     "text": [
      "1\n",
      "2\n",
      "3\n",
      "4\n",
      "5\n",
      "6\n",
      "7\n",
      "8\n",
      "9\n",
      "10\n",
      "11\n",
      "12\n"
     ]
    }
   ],
   "source": [
    "for x in np.nditer(arr):\n",
    "    print(x)"
   ]
  },
  {
   "cell_type": "markdown",
   "id": "61cfc1d3-90aa-4d9d-9363-0ad37fb7b70e",
   "metadata": {},
   "source": [
    "## Array Iterating ndenumerate()"
   ]
  },
  {
   "cell_type": "raw",
   "id": "8d063216-f66f-4ed9-b061-8838c946b80c",
   "metadata": {},
   "source": [
    "Fungsi ndenumerate() adalah fungsi khusus untuk membantu melakukan iterasi pada setiap elemen di level skalar\n",
    "sekaligus bersama indeksnya."
   ]
  },
  {
   "cell_type": "code",
   "execution_count": null,
   "id": "e91cc614-1d67-4a3e-9b98-f82d86865526",
   "metadata": {},
   "outputs": [],
   "source": []
  },
  {
   "cell_type": "code",
   "execution_count": 11,
   "id": "9383eef0-d67f-4011-9bd9-b7dd16a06971",
   "metadata": {},
   "outputs": [],
   "source": [
    "arr = np.array([[[1,2,3],[4,5,6]],[[7,8,9],[10,11,12]]])"
   ]
  },
  {
   "cell_type": "code",
   "execution_count": 14,
   "id": "6a2f39ac-34d7-4352-ad5e-2495e011e596",
   "metadata": {},
   "outputs": [
    {
     "name": "stdout",
     "output_type": "stream",
     "text": [
      "(0, 0, 0) 1\n",
      "(0, 0, 1) 2\n",
      "(0, 0, 2) 3\n",
      "(0, 1, 0) 4\n",
      "(0, 1, 1) 5\n",
      "(0, 1, 2) 6\n",
      "(1, 0, 0) 7\n",
      "(1, 0, 1) 8\n",
      "(1, 0, 2) 9\n",
      "(1, 1, 0) 10\n",
      "(1, 1, 1) 11\n",
      "(1, 1, 2) 12\n"
     ]
    }
   ],
   "source": [
    "for idx, x in np.ndenumerate(arr):\n",
    "    print(idx, x)"
   ]
  },
  {
   "cell_type": "code",
   "execution_count": null,
   "id": "f2e6ef38-287f-4165-8e04-c830a0c21e82",
   "metadata": {},
   "outputs": [],
   "source": []
  }
 ],
 "metadata": {
  "kernelspec": {
   "display_name": "Python 3 (ipykernel)",
   "language": "python",
   "name": "python3"
  },
  "language_info": {
   "codemirror_mode": {
    "name": "ipython",
    "version": 3
   },
   "file_extension": ".py",
   "mimetype": "text/x-python",
   "name": "python",
   "nbconvert_exporter": "python",
   "pygments_lexer": "ipython3",
   "version": "3.12.4"
  }
 },
 "nbformat": 4,
 "nbformat_minor": 5
}

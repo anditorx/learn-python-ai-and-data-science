{
 "cells": [
  {
   "cell_type": "markdown",
   "id": "3dd1811d-c2cd-465c-8830-94fd9ad966a2",
   "metadata": {},
   "source": [
    "# Random"
   ]
  },
  {
   "cell_type": "code",
   "execution_count": 1,
   "id": "21c4d38d-f02d-4b30-9010-a4b81aadf998",
   "metadata": {},
   "outputs": [],
   "source": [
    "from numpy import random"
   ]
  },
  {
   "cell_type": "markdown",
   "id": "7f55d849-095b-49bd-91fe-91842bcb43e4",
   "metadata": {},
   "source": [
    "### Mendapatkan nilai integer secara random"
   ]
  },
  {
   "cell_type": "code",
   "execution_count": 4,
   "id": "56f90ba3-ceac-497b-8c30-db59bb78052d",
   "metadata": {},
   "outputs": [],
   "source": [
    "x = random.randint(10000)"
   ]
  },
  {
   "cell_type": "code",
   "execution_count": 5,
   "id": "d2f00b6c-675b-4338-a54b-cccf7d8ebeb1",
   "metadata": {},
   "outputs": [
    {
     "name": "stdout",
     "output_type": "stream",
     "text": [
      "6693\n"
     ]
    }
   ],
   "source": [
    "print(x)"
   ]
  },
  {
   "cell_type": "code",
   "execution_count": null,
   "id": "b8b70d74-c1c5-4083-aa5e-755822c94994",
   "metadata": {},
   "outputs": [],
   "source": []
  },
  {
   "cell_type": "markdown",
   "id": "af682ea4-b006-4056-a6c0-145f4810e132",
   "metadata": {},
   "source": [
    "### Mendapatkan nilai float secara random"
   ]
  },
  {
   "cell_type": "code",
   "execution_count": 6,
   "id": "2117eb9e-ec0b-4cd9-8f12-4f055727507a",
   "metadata": {},
   "outputs": [],
   "source": [
    "x = random.rand()"
   ]
  },
  {
   "cell_type": "code",
   "execution_count": 7,
   "id": "8c23ae33-dad2-4778-bd85-7b0b051f137a",
   "metadata": {},
   "outputs": [
    {
     "name": "stdout",
     "output_type": "stream",
     "text": [
      "0.002929560802255149\n"
     ]
    }
   ],
   "source": [
    "print(x)"
   ]
  },
  {
   "cell_type": "code",
   "execution_count": null,
   "id": "54e286ad-f13a-494f-85e3-07ec94143276",
   "metadata": {},
   "outputs": [],
   "source": []
  },
  {
   "cell_type": "markdown",
   "id": "7cea67b0-7711-473b-87bd-0c2fd5acdaca",
   "metadata": {},
   "source": [
    "### Membuat array 1D dengan nilai integer secara random"
   ]
  },
  {
   "cell_type": "code",
   "execution_count": 8,
   "id": "d0444ce5-0e11-4dce-abbc-1fab12063db0",
   "metadata": {},
   "outputs": [],
   "source": [
    "x = random.randint(100, size=(5))"
   ]
  },
  {
   "cell_type": "code",
   "execution_count": 9,
   "id": "3e55ddeb-d260-4ecf-93df-94ec06b9de63",
   "metadata": {},
   "outputs": [
    {
     "name": "stdout",
     "output_type": "stream",
     "text": [
      "[69 25 37 99 79]\n"
     ]
    }
   ],
   "source": [
    "print(x)"
   ]
  },
  {
   "cell_type": "code",
   "execution_count": null,
   "id": "9a06ea6e-083d-40c1-937b-a253d7f4ac84",
   "metadata": {},
   "outputs": [],
   "source": []
  },
  {
   "cell_type": "markdown",
   "id": "cd539141-1ad5-4056-ad98-7166593737bd",
   "metadata": {},
   "source": [
    "### Membuat array 2D dengan nilai float secara random"
   ]
  },
  {
   "cell_type": "code",
   "execution_count": 11,
   "id": "cb0c947f-a9bf-4f6d-b066-2ac92d46d2bb",
   "metadata": {},
   "outputs": [],
   "source": [
    "x = random.rand(3, 5)"
   ]
  },
  {
   "cell_type": "code",
   "execution_count": 12,
   "id": "68ff313b-a15b-4baa-983a-12cdf5341880",
   "metadata": {},
   "outputs": [
    {
     "name": "stdout",
     "output_type": "stream",
     "text": [
      "[[0.37258042 0.03157552 0.9867943  0.7604204  0.48579311]\n",
      " [0.71956251 0.44485772 0.66817026 0.30495184 0.75228517]\n",
      " [0.72113156 0.63052357 0.07189828 0.8064758  0.01004825]]\n"
     ]
    }
   ],
   "source": [
    "print(x)"
   ]
  },
  {
   "cell_type": "code",
   "execution_count": null,
   "id": "e616f089-b67d-43e4-96fd-cd5defc04498",
   "metadata": {},
   "outputs": [],
   "source": []
  },
  {
   "cell_type": "markdown",
   "id": "90bf0d2f-a19b-4c79-bb97-2a386f45d04c",
   "metadata": {},
   "source": [
    "### Membuat nilai integer random dari Array 1D"
   ]
  },
  {
   "cell_type": "code",
   "execution_count": 13,
   "id": "3ab289dd-1bbd-483c-a223-317378973b91",
   "metadata": {},
   "outputs": [],
   "source": [
    "x = random.choice([3,5,7,9])"
   ]
  },
  {
   "cell_type": "code",
   "execution_count": 14,
   "id": "c765d07a-0d53-4616-8524-c1cd80c15e11",
   "metadata": {},
   "outputs": [
    {
     "name": "stdout",
     "output_type": "stream",
     "text": [
      "3\n"
     ]
    }
   ],
   "source": [
    "print(x)"
   ]
  },
  {
   "cell_type": "code",
   "execution_count": null,
   "id": "f85c43b6-10fc-4908-b085-f2940c52142c",
   "metadata": {},
   "outputs": [],
   "source": []
  },
  {
   "cell_type": "markdown",
   "id": "83343839-9750-4ea3-b4f9-a14ae5bb8c1e",
   "metadata": {},
   "source": [
    "### Mengacak nilai yang ada pada Array 1D"
   ]
  },
  {
   "cell_type": "code",
   "execution_count": 15,
   "id": "5170bd10-6d64-412b-a026-d01eef8a9828",
   "metadata": {},
   "outputs": [],
   "source": [
    "import numpy as np"
   ]
  },
  {
   "cell_type": "code",
   "execution_count": null,
   "id": "2430f18c-83c9-4c55-9ef9-ae44c2c9dfbd",
   "metadata": {},
   "outputs": [],
   "source": []
  },
  {
   "cell_type": "code",
   "execution_count": 16,
   "id": "a479ad1a-c069-4a3f-851a-505be5c035bf",
   "metadata": {},
   "outputs": [],
   "source": [
    "arr = np.array([1,2,3,4,5])"
   ]
  },
  {
   "cell_type": "code",
   "execution_count": 18,
   "id": "943a8042-e131-46b8-b1d8-223e747ebc87",
   "metadata": {},
   "outputs": [],
   "source": [
    "random.shuffle(arr)"
   ]
  },
  {
   "cell_type": "code",
   "execution_count": 19,
   "id": "d5014243-008b-411d-9d5d-c2e9391c2a7d",
   "metadata": {},
   "outputs": [
    {
     "name": "stdout",
     "output_type": "stream",
     "text": [
      "[2 1 5 4 3]\n"
     ]
    }
   ],
   "source": [
    "print(arr)"
   ]
  },
  {
   "cell_type": "code",
   "execution_count": null,
   "id": "48b7ddf2-851a-4371-b9c0-1549846f2bd7",
   "metadata": {},
   "outputs": [],
   "source": []
  }
 ],
 "metadata": {
  "kernelspec": {
   "display_name": "Python 3 (ipykernel)",
   "language": "python",
   "name": "python3"
  },
  "language_info": {
   "codemirror_mode": {
    "name": "ipython",
    "version": 3
   },
   "file_extension": ".py",
   "mimetype": "text/x-python",
   "name": "python",
   "nbconvert_exporter": "python",
   "pygments_lexer": "ipython3",
   "version": "3.12.4"
  }
 },
 "nbformat": 4,
 "nbformat_minor": 5
}

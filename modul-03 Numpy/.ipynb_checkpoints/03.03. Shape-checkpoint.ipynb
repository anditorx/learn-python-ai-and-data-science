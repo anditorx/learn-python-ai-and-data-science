{
 "cells": [
  {
   "cell_type": "code",
   "execution_count": 1,
   "id": "e444cfc9-4667-49de-8e1f-6d5e3bc8b808",
   "metadata": {},
   "outputs": [],
   "source": [
    "import numpy as np"
   ]
  },
  {
   "cell_type": "markdown",
   "id": "adf2728c-6178-4bcd-a384-03a7d0cf6225",
   "metadata": {},
   "source": [
    "# Shape"
   ]
  },
  {
   "cell_type": "raw",
   "id": "c70aa545-9847-464c-8da9-5d1ee9b775f8",
   "metadata": {},
   "source": [
    "Shape pada array adalah jumlah elemen yang dimiliki pada masing-masing dimensinya. \n",
    "Kita bisa mendapatkan shape dari array dengan menggunakan fungsi shape()"
   ]
  },
  {
   "cell_type": "markdown",
   "id": "db63d839-84b0-4ebc-8d11-3875da47bbdb",
   "metadata": {},
   "source": [
    "### Mendapatkan shape dari Array"
   ]
  },
  {
   "cell_type": "code",
   "execution_count": 5,
   "id": "ab734aae-b557-4997-ace0-6d6d0c01675d",
   "metadata": {},
   "outputs": [],
   "source": [
    "arr = np.array([[1,2,3,4],[5,6,7,8]])"
   ]
  },
  {
   "cell_type": "code",
   "execution_count": 6,
   "id": "d8cb22a1-7489-4cd2-818e-14cc2c2efe66",
   "metadata": {},
   "outputs": [
    {
     "name": "stdout",
     "output_type": "stream",
     "text": [
      "[[1 2 3 4]\n",
      " [5 6 7 8]]\n"
     ]
    }
   ],
   "source": [
    "print(arr)"
   ]
  },
  {
   "cell_type": "code",
   "execution_count": 7,
   "id": "b993ab65-3d9c-411b-b807-b81e19f62386",
   "metadata": {},
   "outputs": [
    {
     "name": "stdout",
     "output_type": "stream",
     "text": [
      "(2, 4)\n"
     ]
    }
   ],
   "source": [
    "print(arr.shape)"
   ]
  },
  {
   "cell_type": "markdown",
   "id": "6f7f2e59-617e-4ce0-a434-d4517459cb72",
   "metadata": {},
   "source": [
    "### Menggunakan ndmin untuk mendefinisikan dimensi"
   ]
  },
  {
   "cell_type": "code",
   "execution_count": 8,
   "id": "0970e69f-9f59-40cd-a70a-9dd72f0d7cf2",
   "metadata": {},
   "outputs": [],
   "source": [
    "arr = np.array([1,2,3,4], ndmin=5)"
   ]
  },
  {
   "cell_type": "code",
   "execution_count": 9,
   "id": "69ae9e09-0a6f-429c-9cc4-1fff75c5b9f2",
   "metadata": {},
   "outputs": [
    {
     "name": "stdout",
     "output_type": "stream",
     "text": [
      "(1, 1, 1, 1, 4)\n"
     ]
    }
   ],
   "source": [
    "print(arr.shape)"
   ]
  },
  {
   "cell_type": "markdown",
   "id": "93f77c7e-c94d-4246-bac6-5e299e391d15",
   "metadata": {},
   "source": [
    "## Array ReShape"
   ]
  },
  {
   "cell_type": "raw",
   "id": "374620a0-5cee-4b81-b357-28a4eac06d46",
   "metadata": {},
   "source": [
    "Reshape berarti mengubah shape yang dimiliki pada sebuah array menggunakan fungsi reshape().\n",
    "Dengan reshaping, kita bisa menambahkan ataupun menghilangkan dimensi juga disaat yang sama\n",
    "mengubah jumlah elemen yang ada di setiap dimensi tersebut."
   ]
  },
  {
   "cell_type": "markdown",
   "id": "28002638-21dc-4f68-a111-d066656ad1d3",
   "metadata": {},
   "source": [
    "### Reshape dari 1D ke 2D"
   ]
  },
  {
   "cell_type": "code",
   "execution_count": 11,
   "id": "be9acdda-d3df-4e14-a0ea-849e0fb874c0",
   "metadata": {},
   "outputs": [],
   "source": [
    "arr = np.array([1,2,3,4,5,6,7,8,9,10,11,12])"
   ]
  },
  {
   "cell_type": "code",
   "execution_count": 12,
   "id": "b4b0437a-40b4-41ec-a0a7-abd7df157798",
   "metadata": {},
   "outputs": [],
   "source": [
    "arr = arr.reshape(4,3)"
   ]
  },
  {
   "cell_type": "code",
   "execution_count": 13,
   "id": "aadde751-0110-4084-ad01-3ff63deb331a",
   "metadata": {},
   "outputs": [
    {
     "name": "stdout",
     "output_type": "stream",
     "text": [
      "[[ 1  2  3]\n",
      " [ 4  5  6]\n",
      " [ 7  8  9]\n",
      " [10 11 12]]\n"
     ]
    }
   ],
   "source": [
    "print(arr)"
   ]
  },
  {
   "cell_type": "code",
   "execution_count": 14,
   "id": "46b4f6e3-a3fa-4501-8c8f-1c15eb26520c",
   "metadata": {},
   "outputs": [],
   "source": [
    "arr = np.array([1,2,3,4,5,6,7,8,9,10,11,12])"
   ]
  },
  {
   "cell_type": "code",
   "execution_count": 15,
   "id": "27ba53a2-6d60-4962-a06e-6b58a5e63829",
   "metadata": {},
   "outputs": [],
   "source": [
    "arr = arr.reshape(2,3,2)"
   ]
  },
  {
   "cell_type": "code",
   "execution_count": 16,
   "id": "a9464d39-b7a3-45c3-b2ec-521e65fb3a81",
   "metadata": {},
   "outputs": [
    {
     "name": "stdout",
     "output_type": "stream",
     "text": [
      "[[[ 1  2]\n",
      "  [ 3  4]\n",
      "  [ 5  6]]\n",
      "\n",
      " [[ 7  8]\n",
      "  [ 9 10]\n",
      "  [11 12]]]\n"
     ]
    }
   ],
   "source": [
    "print(arr)"
   ]
  },
  {
   "cell_type": "markdown",
   "id": "1c792e3c-ac51-40fd-b812-8fb3f75008e3",
   "metadata": {},
   "source": [
    "### Menggunakan -1 pada proses reshaping"
   ]
  },
  {
   "cell_type": "code",
   "execution_count": 18,
   "id": "a0a79d2a-024d-4f2d-a1d7-40ca7db48813",
   "metadata": {},
   "outputs": [],
   "source": [
    "arr = np.array([1,2,3,4,5,6,7,8])"
   ]
  },
  {
   "cell_type": "code",
   "execution_count": 19,
   "id": "f3ab535f-6a16-4f9c-a4f8-c01a459c6c92",
   "metadata": {},
   "outputs": [],
   "source": [
    "arr = arr.reshape(2, 2, -1)"
   ]
  },
  {
   "cell_type": "code",
   "execution_count": 20,
   "id": "53ad3978-7150-4ca2-a5b9-69d99902f074",
   "metadata": {},
   "outputs": [
    {
     "name": "stdout",
     "output_type": "stream",
     "text": [
      "[[[1 2]\n",
      "  [3 4]]\n",
      "\n",
      " [[5 6]\n",
      "  [7 8]]]\n"
     ]
    }
   ],
   "source": [
    "print(arr)"
   ]
  },
  {
   "cell_type": "markdown",
   "id": "40c4fc8a-535c-45ff-a0f6-bb3fb7b62f2f",
   "metadata": {},
   "source": [
    "## Array Flattening"
   ]
  },
  {
   "cell_type": "raw",
   "id": "8fde10c5-41c2-4e4a-9fd4-f6e3ad3b4e05",
   "metadata": {},
   "source": [
    "Flattening berarti kita mengkonversikan array yang memiliki banyak dimensi ke 1D array dengan menggunakan fungsi reshape(-1) atau menggunakan fungsi flatten()"
   ]
  },
  {
   "cell_type": "markdown",
   "id": "edde9f49-67dd-4a65-8327-baca56046ca0",
   "metadata": {},
   "source": [
    "### Melakukan flattening pada array"
   ]
  },
  {
   "cell_type": "code",
   "execution_count": 21,
   "id": "d1e3d293-61e0-4ac9-9dc8-17b68587876f",
   "metadata": {},
   "outputs": [],
   "source": [
    "arr = np.array([[1,2,3], [4,5,6]])"
   ]
  },
  {
   "cell_type": "code",
   "execution_count": 22,
   "id": "e5e42390-6f34-4a09-9e99-f7f86242262f",
   "metadata": {},
   "outputs": [],
   "source": [
    "arr = arr.flatten()"
   ]
  },
  {
   "cell_type": "code",
   "execution_count": 23,
   "id": "959ffbaa-9d4c-4c61-86e0-2c358a8914b0",
   "metadata": {},
   "outputs": [
    {
     "name": "stdout",
     "output_type": "stream",
     "text": [
      "[1 2 3 4 5 6]\n"
     ]
    }
   ],
   "source": [
    "print(arr)"
   ]
  },
  {
   "cell_type": "markdown",
   "id": "1e237026-ac67-41bd-9983-f5342b8dcbf6",
   "metadata": {},
   "source": [
    "## Array Copy & View"
   ]
  },
  {
   "cell_type": "raw",
   "id": "a32a1fa3-b2e2-441f-89b4-ebafd159a0f4",
   "metadata": {},
   "source": [
    "Kita bisa melakukan duplikasi pada array yang memiliki shape dengan fungsi copy() atau fungsi view()\n",
    "Fungsi copy() melakukan duplikasi secara total, sedangkan view tidak."
   ]
  },
  {
   "cell_type": "markdown",
   "id": "8cfdf5e8-cc8f-4c6c-9fac-d76a1c3e827c",
   "metadata": {},
   "source": [
    "### Melakukan duplikasi array menggunakan copy()"
   ]
  },
  {
   "cell_type": "code",
   "execution_count": 24,
   "id": "162488bf-19c6-44f5-8511-4b2ea5aabcc1",
   "metadata": {},
   "outputs": [],
   "source": [
    "arr = np.array([1,2,3,4,5])"
   ]
  },
  {
   "cell_type": "code",
   "execution_count": 25,
   "id": "a626d044-d452-42c2-92fe-95fd0abdaeef",
   "metadata": {},
   "outputs": [],
   "source": [
    "x = arr.copy()"
   ]
  },
  {
   "cell_type": "code",
   "execution_count": 26,
   "id": "c4fe32ed-bf97-41de-aded-727be31196ab",
   "metadata": {},
   "outputs": [
    {
     "name": "stdout",
     "output_type": "stream",
     "text": [
      "[1 2 3 4 5]\n"
     ]
    }
   ],
   "source": [
    "print(x)"
   ]
  },
  {
   "cell_type": "code",
   "execution_count": 27,
   "id": "f671f959-abcf-43ca-b351-5a41776b684f",
   "metadata": {},
   "outputs": [],
   "source": [
    "arr[0] = 42"
   ]
  },
  {
   "cell_type": "code",
   "execution_count": 28,
   "id": "2e7d8927-da09-494f-860d-b4783a9f4a98",
   "metadata": {},
   "outputs": [
    {
     "name": "stdout",
     "output_type": "stream",
     "text": [
      "[42  2  3  4  5] [1 2 3 4 5]\n"
     ]
    }
   ],
   "source": [
    "print(arr, x)"
   ]
  },
  {
   "cell_type": "markdown",
   "id": "e7e6241a-78f5-4332-a5de-b659d5a6e6d0",
   "metadata": {},
   "source": [
    "### Melakukan duplikasi array menggunakan view()"
   ]
  },
  {
   "cell_type": "code",
   "execution_count": 29,
   "id": "828e7422-051a-4648-ab41-f6c1d779532f",
   "metadata": {},
   "outputs": [],
   "source": [
    "arr = np.array([1,2,3,4,5])"
   ]
  },
  {
   "cell_type": "code",
   "execution_count": 30,
   "id": "7ebccc99-4778-4d56-a8c4-d44cc83ac539",
   "metadata": {},
   "outputs": [],
   "source": [
    "x = arr.view()"
   ]
  },
  {
   "cell_type": "code",
   "execution_count": 31,
   "id": "95a08e4a-6aa0-488d-8c3b-fcd144846990",
   "metadata": {},
   "outputs": [
    {
     "name": "stdout",
     "output_type": "stream",
     "text": [
      "[1 2 3 4 5]\n"
     ]
    }
   ],
   "source": [
    "print(x)"
   ]
  },
  {
   "cell_type": "code",
   "execution_count": 32,
   "id": "be7920c2-17e3-4bec-81a5-928540a25695",
   "metadata": {},
   "outputs": [],
   "source": [
    "arr[0] = 42"
   ]
  },
  {
   "cell_type": "code",
   "execution_count": 33,
   "id": "c8741b06-d399-4aad-8e81-cbb8bc80a57b",
   "metadata": {},
   "outputs": [
    {
     "name": "stdout",
     "output_type": "stream",
     "text": [
      "[42  2  3  4  5] [42  2  3  4  5]\n"
     ]
    }
   ],
   "source": [
    "print(arr, x)"
   ]
  },
  {
   "cell_type": "code",
   "execution_count": null,
   "id": "625553b0-3eaf-49da-b046-9fc8b408407d",
   "metadata": {},
   "outputs": [],
   "source": []
  }
 ],
 "metadata": {
  "kernelspec": {
   "display_name": "Python 3 (ipykernel)",
   "language": "python",
   "name": "python3"
  },
  "language_info": {
   "codemirror_mode": {
    "name": "ipython",
    "version": 3
   },
   "file_extension": ".py",
   "mimetype": "text/x-python",
   "name": "python",
   "nbconvert_exporter": "python",
   "pygments_lexer": "ipython3",
   "version": "3.12.4"
  }
 },
 "nbformat": 4,
 "nbformat_minor": 5
}

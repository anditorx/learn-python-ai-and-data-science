{
 "cells": [
  {
   "cell_type": "code",
   "execution_count": 1,
   "id": "a3f1255c-c0ca-4aac-867d-a0a9d6c27259",
   "metadata": {},
   "outputs": [],
   "source": [
    "import numpy as np"
   ]
  },
  {
   "cell_type": "markdown",
   "id": "f3548d94-e1ed-49ee-8c2b-2ac25a628953",
   "metadata": {},
   "source": [
    "### Membuat Numpy Array"
   ]
  },
  {
   "cell_type": "code",
   "execution_count": 2,
   "id": "ba642e2c-7aaa-45ee-9667-83181c726177",
   "metadata": {},
   "outputs": [],
   "source": [
    "arr = np.array([1,2,3,4,5])"
   ]
  },
  {
   "cell_type": "code",
   "execution_count": 3,
   "id": "93b22587-c114-4729-a908-2a3c0a9d46f3",
   "metadata": {},
   "outputs": [
    {
     "name": "stdout",
     "output_type": "stream",
     "text": [
      "[1 2 3 4 5]\n"
     ]
    }
   ],
   "source": [
    "print(arr)"
   ]
  },
  {
   "cell_type": "code",
   "execution_count": 4,
   "id": "1b50c544-629a-4165-a010-0362057866f3",
   "metadata": {},
   "outputs": [
    {
     "name": "stdout",
     "output_type": "stream",
     "text": [
      "<class 'numpy.ndarray'>\n"
     ]
    }
   ],
   "source": [
    "print(type(arr))"
   ]
  },
  {
   "cell_type": "code",
   "execution_count": 5,
   "id": "dc236cd9-d49c-4a65-a900-d544b751cd23",
   "metadata": {},
   "outputs": [
    {
     "data": {
      "text/plain": [
       "(list, list)"
      ]
     },
     "execution_count": 5,
     "metadata": {},
     "output_type": "execute_result"
    }
   ],
   "source": [
    "# python list\n",
    "a = [1,2,3,4]\n",
    "b = [5,6,7,8]\n",
    "type(a), type(b)"
   ]
  },
  {
   "cell_type": "code",
   "execution_count": 6,
   "id": "daf8c4dd-54a9-435e-b46c-5389bfaa8373",
   "metadata": {},
   "outputs": [
    {
     "data": {
      "text/plain": [
       "[1, 2, 3, 4, 5, 6, 7, 8]"
      ]
     },
     "execution_count": 6,
     "metadata": {},
     "output_type": "execute_result"
    }
   ],
   "source": [
    "a+b"
   ]
  },
  {
   "cell_type": "code",
   "execution_count": 7,
   "id": "3152c57c-8572-407f-ac8c-4b2356f7ee62",
   "metadata": {},
   "outputs": [
    {
     "data": {
      "text/plain": [
       "(numpy.ndarray, numpy.ndarray)"
      ]
     },
     "execution_count": 7,
     "metadata": {},
     "output_type": "execute_result"
    }
   ],
   "source": [
    "arrayA = np.array(a)\n",
    "arrayB = np.array(b)\n",
    "type(arrayA), type(arrayB)"
   ]
  },
  {
   "cell_type": "code",
   "execution_count": 8,
   "id": "bd9aca3a-181e-4cff-b249-f47ee8ca7431",
   "metadata": {},
   "outputs": [
    {
     "data": {
      "text/plain": [
       "array([ 6,  8, 10, 12])"
      ]
     },
     "execution_count": 8,
     "metadata": {},
     "output_type": "execute_result"
    }
   ],
   "source": [
    "arrayA + arrayB"
   ]
  },
  {
   "cell_type": "code",
   "execution_count": 10,
   "id": "3b602550-ae38-445e-9dd8-006069fefd3f",
   "metadata": {},
   "outputs": [
    {
     "data": {
      "text/plain": [
       "array([0.2       , 0.33333333, 0.42857143, 0.5       ])"
      ]
     },
     "execution_count": 10,
     "metadata": {},
     "output_type": "execute_result"
    }
   ],
   "source": [
    "arrayA + arrayB\n",
    "arrayA / arrayB"
   ]
  },
  {
   "cell_type": "code",
   "execution_count": 11,
   "id": "c09cc8fe-56ea-4ada-bf61-f424727dddcd",
   "metadata": {},
   "outputs": [
    {
     "data": {
      "text/plain": [
       "array([10, 20, 30, 40])"
      ]
     },
     "execution_count": 11,
     "metadata": {},
     "output_type": "execute_result"
    }
   ],
   "source": [
    "arrayA * 10 #broadcasting"
   ]
  },
  {
   "cell_type": "code",
   "execution_count": 12,
   "id": "1a81994a-1f9a-4f7d-9ce5-5330cb52d5a1",
   "metadata": {},
   "outputs": [
    {
     "name": "stdout",
     "output_type": "stream",
     "text": [
      "0.25\n"
     ]
    }
   ],
   "source": [
    "y_pred = np.array([1,0,0,1,1,0,1,1])\n",
    "labels = np.array([0,1,0,1,1,0,1,1])\n",
    "\n",
    "mse = (1/len(labels)) * np.sum(np.square(y_pred - labels))\n",
    "print(mse)"
   ]
  },
  {
   "cell_type": "markdown",
   "id": "edc23ede-9ffe-4f8c-85f4-f05f1695197b",
   "metadata": {},
   "source": [
    "### Membuat Numpy Array 0 Dimensi (0D)"
   ]
  },
  {
   "cell_type": "code",
   "execution_count": 13,
   "id": "b19b06ec-ee88-4b46-be9d-211a733dd395",
   "metadata": {},
   "outputs": [],
   "source": [
    "arr = np.array(42)"
   ]
  },
  {
   "cell_type": "code",
   "execution_count": 14,
   "id": "a230ab31-c470-497b-b86b-1946b9d073ac",
   "metadata": {},
   "outputs": [
    {
     "name": "stdout",
     "output_type": "stream",
     "text": [
      "42\n"
     ]
    }
   ],
   "source": [
    "print(arr)"
   ]
  },
  {
   "cell_type": "markdown",
   "id": "0289cec8-a1e5-4865-afac-c7610aa5a412",
   "metadata": {},
   "source": [
    "### Membuat Numpy Array 0 Dimensi (1D)"
   ]
  },
  {
   "cell_type": "code",
   "execution_count": 16,
   "id": "8e6beab6-0141-464b-8b6b-6d2444abd0bd",
   "metadata": {},
   "outputs": [],
   "source": [
    "arr = np.array([1,2,3,4,5])"
   ]
  },
  {
   "cell_type": "code",
   "execution_count": 17,
   "id": "9619fa85-1a85-43c9-af80-f44834f2ecdb",
   "metadata": {},
   "outputs": [
    {
     "name": "stdout",
     "output_type": "stream",
     "text": [
      "[1 2 3 4 5]\n"
     ]
    }
   ],
   "source": [
    "print(arr)"
   ]
  },
  {
   "cell_type": "markdown",
   "id": "b5d59e22-b933-45b7-9ac4-759fc3d892be",
   "metadata": {},
   "source": [
    "### Membuat Numpy Array 0 Dimensi (2D)"
   ]
  },
  {
   "cell_type": "code",
   "execution_count": 19,
   "id": "c80aeb9e-54e2-4595-bb13-bedb9ace4a6a",
   "metadata": {},
   "outputs": [],
   "source": [
    "arr = np.array([[1,2,3],[4,5,6]])"
   ]
  },
  {
   "cell_type": "code",
   "execution_count": 20,
   "id": "f9ce2143-9f8a-4278-8cef-02693b8cccc0",
   "metadata": {},
   "outputs": [
    {
     "name": "stdout",
     "output_type": "stream",
     "text": [
      "[[1 2 3]\n",
      " [4 5 6]]\n"
     ]
    }
   ],
   "source": [
    "print(arr)"
   ]
  },
  {
   "cell_type": "markdown",
   "id": "7de5074b-92b8-4235-b775-777ab41802c7",
   "metadata": {},
   "source": [
    "### Membuat Numpy Array 0 Dimensi (3D)"
   ]
  },
  {
   "cell_type": "code",
   "execution_count": 21,
   "id": "31e8ea88-edaa-4710-a276-69f93f3efd9f",
   "metadata": {},
   "outputs": [],
   "source": [
    "arr = np.array([[[1,2,3],[4,5,6]],[[1,2,3],[4,5,6]]])"
   ]
  },
  {
   "cell_type": "code",
   "execution_count": 22,
   "id": "517259a7-bf9c-47ef-9dd6-fd82fcbaa816",
   "metadata": {},
   "outputs": [
    {
     "name": "stdout",
     "output_type": "stream",
     "text": [
      "[[[1 2 3]\n",
      "  [4 5 6]]\n",
      "\n",
      " [[1 2 3]\n",
      "  [4 5 6]]]\n"
     ]
    }
   ],
   "source": [
    "print(arr)"
   ]
  },
  {
   "cell_type": "markdown",
   "id": "139d2ab0-d01d-4ce9-a3d7-95d09625b23c",
   "metadata": {},
   "source": [
    "### Membuat Numpy Array 0s dan 1s"
   ]
  },
  {
   "cell_type": "code",
   "execution_count": 23,
   "id": "9d064aed-2c73-47ba-bd49-c0825c5b387b",
   "metadata": {},
   "outputs": [],
   "source": [
    "arr = np.zeros(5)"
   ]
  },
  {
   "cell_type": "code",
   "execution_count": 24,
   "id": "02dbc2a2-71e1-45dd-ba71-429e9e63a29c",
   "metadata": {},
   "outputs": [
    {
     "name": "stdout",
     "output_type": "stream",
     "text": [
      "[0. 0. 0. 0. 0.]\n"
     ]
    }
   ],
   "source": [
    "print(arr)"
   ]
  },
  {
   "cell_type": "code",
   "execution_count": 25,
   "id": "e1a8ac60-cb77-4169-90f3-23cdc43cf717",
   "metadata": {},
   "outputs": [
    {
     "name": "stdout",
     "output_type": "stream",
     "text": [
      "[[0. 0.]\n",
      " [0. 0.]\n",
      " [0. 0.]\n",
      " [0. 0.]\n",
      " [0. 0.]]\n"
     ]
    }
   ],
   "source": [
    "arr = np.zeros((5,2))\n",
    "print(arr)"
   ]
  },
  {
   "cell_type": "code",
   "execution_count": 26,
   "id": "2ff8faa0-eb8b-4470-830c-1161ff12054c",
   "metadata": {},
   "outputs": [],
   "source": [
    "arr = np.ones((7,7))"
   ]
  },
  {
   "cell_type": "code",
   "execution_count": 27,
   "id": "b875f0e6-a2bb-4692-987a-ecddf838f04b",
   "metadata": {},
   "outputs": [
    {
     "name": "stdout",
     "output_type": "stream",
     "text": [
      "[[1. 1. 1. 1. 1. 1. 1.]\n",
      " [1. 1. 1. 1. 1. 1. 1.]\n",
      " [1. 1. 1. 1. 1. 1. 1.]\n",
      " [1. 1. 1. 1. 1. 1. 1.]\n",
      " [1. 1. 1. 1. 1. 1. 1.]\n",
      " [1. 1. 1. 1. 1. 1. 1.]\n",
      " [1. 1. 1. 1. 1. 1. 1.]]\n"
     ]
    }
   ],
   "source": [
    "print(arr)"
   ]
  },
  {
   "cell_type": "code",
   "execution_count": 28,
   "id": "69b334ed-1e07-45e9-bf51-45c99759f5c8",
   "metadata": {},
   "outputs": [],
   "source": [
    "arr = np.ones((3,4,2))"
   ]
  },
  {
   "cell_type": "code",
   "execution_count": 29,
   "id": "c559f1c2-8cc5-48ac-8237-948cb7a40d8c",
   "metadata": {},
   "outputs": [
    {
     "name": "stdout",
     "output_type": "stream",
     "text": [
      "[[[1. 1.]\n",
      "  [1. 1.]\n",
      "  [1. 1.]\n",
      "  [1. 1.]]\n",
      "\n",
      " [[1. 1.]\n",
      "  [1. 1.]\n",
      "  [1. 1.]\n",
      "  [1. 1.]]\n",
      "\n",
      " [[1. 1.]\n",
      "  [1. 1.]\n",
      "  [1. 1.]\n",
      "  [1. 1.]]]\n"
     ]
    }
   ],
   "source": [
    "print(arr)"
   ]
  },
  {
   "cell_type": "markdown",
   "id": "74a80ec3-42bd-437b-9632-a3e8da5a1f0d",
   "metadata": {},
   "source": [
    "### Mengakses Elemen Pada Numpy Array 1D"
   ]
  },
  {
   "cell_type": "code",
   "execution_count": 33,
   "id": "3f59cfc9-983c-41a8-8869-1e1812c75dbf",
   "metadata": {},
   "outputs": [],
   "source": [
    "arr = np.array([1,2,3,4])"
   ]
  },
  {
   "cell_type": "code",
   "execution_count": 34,
   "id": "144d189d-694c-4fee-af2d-c043c36baf91",
   "metadata": {},
   "outputs": [
    {
     "data": {
      "text/plain": [
       "array([2, 3])"
      ]
     },
     "execution_count": 34,
     "metadata": {},
     "output_type": "execute_result"
    }
   ],
   "source": [
    "arr[1:-1]"
   ]
  },
  {
   "cell_type": "markdown",
   "id": "0fee69a9-a343-49f7-b49f-fe5282f3563f",
   "metadata": {},
   "source": [
    "### Mengakses Elemen Pada Numpy Array 2D"
   ]
  },
  {
   "cell_type": "code",
   "execution_count": 35,
   "id": "363903d8-b2d4-4bf2-8a3b-9af6a8672f4a",
   "metadata": {},
   "outputs": [],
   "source": [
    "arr = np.array([[1,2,3,4,5], [6,7,8,9,10]])"
   ]
  },
  {
   "cell_type": "code",
   "execution_count": 36,
   "id": "f880156c-be2e-4eef-a365-fc704367691e",
   "metadata": {},
   "outputs": [
    {
     "name": "stdout",
     "output_type": "stream",
     "text": [
      "10\n"
     ]
    }
   ],
   "source": [
    "print(arr[1,4])"
   ]
  },
  {
   "cell_type": "code",
   "execution_count": 37,
   "id": "a6ad1a63-f4c5-475a-b9ec-3c0572b184c8",
   "metadata": {},
   "outputs": [
    {
     "name": "stdout",
     "output_type": "stream",
     "text": [
      "5\n"
     ]
    }
   ],
   "source": [
    "print(arr[0,4])"
   ]
  },
  {
   "cell_type": "code",
   "execution_count": 43,
   "id": "5ef7df74-efee-4d1b-8a84-b7d65d02fda3",
   "metadata": {},
   "outputs": [
    {
     "name": "stdout",
     "output_type": "stream",
     "text": [
      "8\n"
     ]
    }
   ],
   "source": [
    "print(arr[1,-3])"
   ]
  },
  {
   "cell_type": "code",
   "execution_count": 44,
   "id": "91ce710c-33bc-4620-bc4c-a6851f909217",
   "metadata": {},
   "outputs": [
    {
     "name": "stdout",
     "output_type": "stream",
     "text": [
      "[7 8 9]\n"
     ]
    }
   ],
   "source": [
    "print(arr[1, 1:4])"
   ]
  },
  {
   "cell_type": "markdown",
   "id": "eeec9a07-b197-4478-905f-3851c3e0977b",
   "metadata": {},
   "source": [
    "### Mengecek tipe data pada Array"
   ]
  },
  {
   "cell_type": "code",
   "execution_count": 46,
   "id": "bbcfcd7f-c2fa-4911-9ac4-263d1f8530fc",
   "metadata": {},
   "outputs": [],
   "source": [
    "arr = np.array([1,2,3,4])"
   ]
  },
  {
   "cell_type": "code",
   "execution_count": 47,
   "id": "b68a0164-ece7-4fb9-832f-e8b84e062f7f",
   "metadata": {},
   "outputs": [
    {
     "name": "stdout",
     "output_type": "stream",
     "text": [
      "int64\n"
     ]
    }
   ],
   "source": [
    "print(arr.dtype)"
   ]
  },
  {
   "cell_type": "code",
   "execution_count": 50,
   "id": "2bc3e1f3-280f-492c-8521-8709f1f0f859",
   "metadata": {},
   "outputs": [],
   "source": [
    "arr = np.array([1,2,3,4], dtype='S')"
   ]
  },
  {
   "cell_type": "code",
   "execution_count": 51,
   "id": "5a242464-27b3-45a1-91a2-c3cb12728dcb",
   "metadata": {},
   "outputs": [
    {
     "name": "stdout",
     "output_type": "stream",
     "text": [
      "[b'1' b'2' b'3' b'4']\n"
     ]
    }
   ],
   "source": [
    "print(arr)"
   ]
  },
  {
   "cell_type": "code",
   "execution_count": 52,
   "id": "971468ab-c752-42ce-bdab-e64e77f6fe41",
   "metadata": {},
   "outputs": [
    {
     "name": "stdout",
     "output_type": "stream",
     "text": [
      "|S1\n"
     ]
    }
   ],
   "source": [
    "print(arr.dtype)"
   ]
  },
  {
   "cell_type": "code",
   "execution_count": 53,
   "id": "97784b45-b037-4d61-867f-f9658738776f",
   "metadata": {},
   "outputs": [
    {
     "data": {
      "text/plain": [
       "b'1'"
      ]
     },
     "execution_count": 53,
     "metadata": {},
     "output_type": "execute_result"
    }
   ],
   "source": [
    "arr[0]"
   ]
  },
  {
   "cell_type": "code",
   "execution_count": 57,
   "id": "8bac79a1-80b5-4dfc-b95a-fe405019b065",
   "metadata": {},
   "outputs": [],
   "source": [
    "arr = np.array([1,2,3,4], dtype='I')"
   ]
  },
  {
   "cell_type": "code",
   "execution_count": 58,
   "id": "01b5d6e8-109e-45fe-bff0-a38052d5a466",
   "metadata": {},
   "outputs": [
    {
     "name": "stdout",
     "output_type": "stream",
     "text": [
      "[1 2 3 4]\n"
     ]
    }
   ],
   "source": [
    "print(arr)"
   ]
  },
  {
   "cell_type": "code",
   "execution_count": 59,
   "id": "4744509e-3417-4e7f-8b3b-81d86623ffd6",
   "metadata": {},
   "outputs": [
    {
     "name": "stdout",
     "output_type": "stream",
     "text": [
      "uint32\n"
     ]
    }
   ],
   "source": [
    "print(arr.dtype)"
   ]
  },
  {
   "cell_type": "code",
   "execution_count": 60,
   "id": "8a02aa24-3a11-4e71-88b1-18bda004d791",
   "metadata": {},
   "outputs": [],
   "source": [
    "arr = np.array([1,2,3,4], dtype=np.int32)"
   ]
  },
  {
   "cell_type": "code",
   "execution_count": 61,
   "id": "b9626fd0-be42-49fb-9f09-baba18930f9a",
   "metadata": {},
   "outputs": [
    {
     "name": "stdout",
     "output_type": "stream",
     "text": [
      "[1 2 3 4]\n"
     ]
    }
   ],
   "source": [
    "print(arr)"
   ]
  },
  {
   "cell_type": "code",
   "execution_count": 62,
   "id": "1b937bb5-5ca8-4827-b15b-002dfc3f351c",
   "metadata": {},
   "outputs": [
    {
     "name": "stdout",
     "output_type": "stream",
     "text": [
      "int32\n"
     ]
    }
   ],
   "source": [
    "print(arr.dtype)"
   ]
  },
  {
   "cell_type": "markdown",
   "id": "13ace87b-cc79-4b21-bff0-b55465f1836e",
   "metadata": {},
   "source": [
    "### Mengubah tipe data pada Numpy Array"
   ]
  },
  {
   "cell_type": "code",
   "execution_count": 64,
   "id": "3985c455-b331-41c4-a1a2-f323f74a8388",
   "metadata": {},
   "outputs": [],
   "source": [
    "arr = np.array([1.1,2.1,3.1])"
   ]
  },
  {
   "cell_type": "code",
   "execution_count": 65,
   "id": "5146ba96-71a8-4e6d-8a7b-b7b61fd5a70e",
   "metadata": {},
   "outputs": [
    {
     "name": "stdout",
     "output_type": "stream",
     "text": [
      "float64\n"
     ]
    }
   ],
   "source": [
    "print(arr.dtype)"
   ]
  },
  {
   "cell_type": "code",
   "execution_count": 66,
   "id": "b4220e09-b6d9-4cc2-af90-5e62211e3269",
   "metadata": {},
   "outputs": [],
   "source": [
    "arr = arr.astype('i')"
   ]
  },
  {
   "cell_type": "code",
   "execution_count": 67,
   "id": "79334e38-2a27-4c2a-a051-26223c497b53",
   "metadata": {},
   "outputs": [
    {
     "data": {
      "text/plain": [
       "array([1, 2, 3], dtype=int32)"
      ]
     },
     "execution_count": 67,
     "metadata": {},
     "output_type": "execute_result"
    }
   ],
   "source": [
    "arr"
   ]
  },
  {
   "cell_type": "code",
   "execution_count": 68,
   "id": "04ab5865-e9c0-4b18-a551-e978f19497f5",
   "metadata": {},
   "outputs": [
    {
     "name": "stdout",
     "output_type": "stream",
     "text": [
      "int32\n"
     ]
    }
   ],
   "source": [
    "print(arr.dtype)"
   ]
  },
  {
   "cell_type": "markdown",
   "id": "0dcbac88-39c3-4a2a-93e0-85e73c446209",
   "metadata": {},
   "source": [
    "### Fungsi Arange"
   ]
  },
  {
   "cell_type": "code",
   "execution_count": 69,
   "id": "c7a078c3-07d7-4f03-9e4b-6030be027894",
   "metadata": {},
   "outputs": [],
   "source": [
    "arr = np.arange(20)"
   ]
  },
  {
   "cell_type": "code",
   "execution_count": 70,
   "id": "cb7de00d-b0b7-43d4-bc70-ad169912710d",
   "metadata": {},
   "outputs": [
    {
     "data": {
      "text/plain": [
       "array([ 0,  1,  2,  3,  4,  5,  6,  7,  8,  9, 10, 11, 12, 13, 14, 15, 16,\n",
       "       17, 18, 19])"
      ]
     },
     "execution_count": 70,
     "metadata": {},
     "output_type": "execute_result"
    }
   ],
   "source": [
    "arr"
   ]
  },
  {
   "cell_type": "code",
   "execution_count": 73,
   "id": "abef285b-8c5c-4732-914e-d9a0928c2a0a",
   "metadata": {},
   "outputs": [
    {
     "name": "stdout",
     "output_type": "stream",
     "text": [
      "<class 'numpy.ndarray'>\n"
     ]
    }
   ],
   "source": [
    "print(type(arr))"
   ]
  },
  {
   "cell_type": "code",
   "execution_count": 75,
   "id": "8e2282e6-e287-43be-8c3a-298359188597",
   "metadata": {},
   "outputs": [
    {
     "name": "stdout",
     "output_type": "stream",
     "text": [
      "[0, 1, 2, 3, 4, 5, 6, 7, 8, 9]\n"
     ]
    }
   ],
   "source": [
    "print(list(range(10)))"
   ]
  },
  {
   "cell_type": "code",
   "execution_count": 74,
   "id": "c7a78f13-3038-44bd-a3c6-9cb2425376ee",
   "metadata": {},
   "outputs": [
    {
     "name": "stdout",
     "output_type": "stream",
     "text": [
      "0\n",
      "1\n",
      "2\n",
      "3\n",
      "4\n",
      "5\n",
      "6\n",
      "7\n",
      "8\n",
      "9\n"
     ]
    }
   ],
   "source": [
    "for i in range(10):\n",
    "    print(i)"
   ]
  },
  {
   "cell_type": "code",
   "execution_count": 76,
   "id": "40b0f360-69d3-4cde-8d2e-8280f58eb929",
   "metadata": {},
   "outputs": [],
   "source": [
    "arr = np.arange(10,20)"
   ]
  },
  {
   "cell_type": "code",
   "execution_count": 77,
   "id": "198fb731-ed75-4463-9bb1-9cae51c4521e",
   "metadata": {},
   "outputs": [
    {
     "data": {
      "text/plain": [
       "array([10, 11, 12, 13, 14, 15, 16, 17, 18, 19])"
      ]
     },
     "execution_count": 77,
     "metadata": {},
     "output_type": "execute_result"
    }
   ],
   "source": [
    "arr"
   ]
  },
  {
   "cell_type": "code",
   "execution_count": 78,
   "id": "ff0e4ea0-36f6-4999-a4de-fa0c7df39741",
   "metadata": {},
   "outputs": [],
   "source": [
    "arr = np.arange(10,20,2)"
   ]
  },
  {
   "cell_type": "code",
   "execution_count": 79,
   "id": "b5a0bd57-abbb-489d-919b-9faf3b509c3f",
   "metadata": {},
   "outputs": [
    {
     "data": {
      "text/plain": [
       "array([10, 12, 14, 16, 18])"
      ]
     },
     "execution_count": 79,
     "metadata": {},
     "output_type": "execute_result"
    }
   ],
   "source": [
    "arr"
   ]
  },
  {
   "cell_type": "code",
   "execution_count": 80,
   "id": "f1064e17-9bd6-41fd-94bd-c7841ebea11d",
   "metadata": {},
   "outputs": [
    {
     "data": {
      "text/plain": [
       "array([-1.00000000e+00, -9.00000000e-01, -8.00000000e-01, -7.00000000e-01,\n",
       "       -6.00000000e-01, -5.00000000e-01, -4.00000000e-01, -3.00000000e-01,\n",
       "       -2.00000000e-01, -1.00000000e-01, -2.22044605e-16,  1.00000000e-01,\n",
       "        2.00000000e-01,  3.00000000e-01,  4.00000000e-01,  5.00000000e-01,\n",
       "        6.00000000e-01,  7.00000000e-01,  8.00000000e-01,  9.00000000e-01])"
      ]
     },
     "execution_count": 80,
     "metadata": {},
     "output_type": "execute_result"
    }
   ],
   "source": [
    "arr = np.arange(-1, 1, 0.1)\n",
    "arr"
   ]
  },
  {
   "cell_type": "code",
   "execution_count": null,
   "id": "2287d515-5ec3-4e4c-8e6f-b2ecc5b30e3a",
   "metadata": {},
   "outputs": [],
   "source": []
  }
 ],
 "metadata": {
  "kernelspec": {
   "display_name": "Python 3 (ipykernel)",
   "language": "python",
   "name": "python3"
  },
  "language_info": {
   "codemirror_mode": {
    "name": "ipython",
    "version": 3
   },
   "file_extension": ".py",
   "mimetype": "text/x-python",
   "name": "python",
   "nbconvert_exporter": "python",
   "pygments_lexer": "ipython3",
   "version": "3.12.4"
  }
 },
 "nbformat": 4,
 "nbformat_minor": 5
}
